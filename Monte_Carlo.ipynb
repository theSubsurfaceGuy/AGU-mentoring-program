{
  "nbformat": 4,
  "nbformat_minor": 0,
  "metadata": {
    "colab": {
      "name": "Monte Carlo.ipynb",
      "provenance": [],
      "authorship_tag": "ABX9TyOoCwFcX7hA16Sr+STSmu/I"
    },
    "kernelspec": {
      "name": "python3",
      "display_name": "Python 3"
    }
  },
  "cells": [
    {
      "cell_type": "code",
      "metadata": {
        "id": "eo14zgzsAcRc",
        "colab": {
          "base_uri": "https://localhost:8080/",
          "height": 122
        },
        "outputId": "e2aadb8c-a5a4-4014-8e09-3fc015c081f6"
      },
      "source": [
        "pip install geostatspy"
      ],
      "execution_count": null,
      "outputs": [
        {
          "output_type": "stream",
          "text": [
            "Collecting geostatspy\n",
            "\u001b[?25l  Downloading https://files.pythonhosted.org/packages/45/a3/82b1561e9b46576252cfb9670e23682123485641e9d5a017b7a912695e39/geostatspy-0.0.19-py3-none-any.whl (56kB)\n",
            "\r\u001b[K     |█████▊                          | 10kB 15.4MB/s eta 0:00:01\r\u001b[K     |███████████▌                    | 20kB 1.2MB/s eta 0:00:01\r\u001b[K     |█████████████████▎              | 30kB 1.6MB/s eta 0:00:01\r\u001b[K     |███████████████████████         | 40kB 1.8MB/s eta 0:00:01\r\u001b[K     |████████████████████████████▉   | 51kB 1.4MB/s eta 0:00:01\r\u001b[K     |████████████████████████████████| 61kB 1.3MB/s \n",
            "\u001b[?25hInstalling collected packages: geostatspy\n",
            "Successfully installed geostatspy-0.0.19\n"
          ],
          "name": "stdout"
        }
      ]
    },
    {
      "cell_type": "code",
      "metadata": {
        "id": "zM5MJGzjKOIB"
      },
      "source": [
        "import Gassrhosat\n",
        "import Gassvpsat\n",
        "import Gassvssat"
      ],
      "execution_count": null,
      "outputs": []
    },
    {
      "cell_type": "code",
      "metadata": {
        "id": "UwHCEKUvK9PP"
      },
      "source": [
        "from Gassrhosat import gassmannrho\n",
        "from Gassvpsat import gassmannvp\n",
        "from Gassvssat import gassmannvs"
      ],
      "execution_count": null,
      "outputs": []
    },
    {
      "cell_type": "code",
      "metadata": {
        "id": "WyUQ8_4y-2Oj",
        "colab": {
          "base_uri": "https://localhost:8080/",
          "height": 71
        },
        "outputId": "4a294a6b-62f6-4cfb-bef5-67e7cf469595"
      },
      "source": [
        "import geostatspy.GSLIB as GSLIB          # GSLIB utilies, visualization and wrapper\n",
        "import geostatspy.geostats as geostats    # GSLIB methods convert to Python"
      ],
      "execution_count": null,
      "outputs": [
        {
          "output_type": "stream",
          "text": [
            "/usr/local/lib/python3.6/dist-packages/statsmodels/tools/_testing.py:19: FutureWarning: pandas.util.testing is deprecated. Use the functions in the public API at pandas.testing instead.\n",
            "  import pandas.util.testing as tm\n"
          ],
          "name": "stderr"
        }
      ]
    },
    {
      "cell_type": "code",
      "metadata": {
        "id": "fhkUGPhaANdT"
      },
      "source": [
        "import numpy as np                        # ndarrys for gridded data\n",
        "import pandas as pd                       # DataFrames for tabular data\n",
        "import matplotlib.pyplot as plt           # for plotting\n",
        "from scipy import stats                   # summary statistics\n",
        "import math                               # trig etc.\n",
        "import random"
      ],
      "execution_count": null,
      "outputs": []
    },
    {
      "cell_type": "code",
      "metadata": {
        "id": "ZDsodhbPAVL1"
      },
      "source": [
        "Vp_mean = 21000; Vp_stdev = 5000          # Gaussian mean and standard deviation Vp\n",
        "Vs_mean = 12600; Vs_stdev = 3000          # Gaussian mean and standard deviation Vs\n",
        "rho_mean = 5.51 ; rho_stdev = 1.5          # Gaussian mean and standard deviation rho\n",
        "L = 10000                                 # Number of MCS realizations\n"
      ],
      "execution_count": null,
      "outputs": []
    },
    {
      "cell_type": "code",
      "metadata": {
        "id": "Pd-Kw9mnDvgU"
      },
      "source": [
        "Vp_min = 0; Vp_max = 40000           \n",
        "Vs_min = 0; Vs_max = 25000\n",
        "rho_min = 0.5; rho_max = 8           "
      ],
      "execution_count": null,
      "outputs": []
    },
    {
      "cell_type": "code",
      "metadata": {
        "id": "yXwNa92aFYvp"
      },
      "source": [
        "Vp = np.random.normal(Vp_mean, Vp_stdev, size=L) \n",
        "Vs = np.random.normal(Vs_mean, Vs_stdev, size=L)   \n",
        "rho = np.random.normal(rho_mean, rho_stdev, size=L)         "
      ],
      "execution_count": null,
      "outputs": []
    },
    {
      "cell_type": "code",
      "metadata": {
        "id": "6zGGG8lFFqaT",
        "colab": {
          "base_uri": "https://localhost:8080/",
          "height": 423
        },
        "outputId": "eca36930-715a-44a7-d4fc-9bbad663e231"
      },
      "source": [
        "plt.subplot(131)\n",
        "GSLIB.hist_st(Vp,Vp_min,Vp_max,log=False,cumul=False,bins=50,weights=None,xlabel=\"Vp\",title=\"Vp Realizations\")\n",
        "plt.ylim(0.0,1000)\n",
        "\n",
        "plt.subplot(132)\n",
        "GSLIB.hist_st(Vs,Vs_min,Vs_max,log=False,cumul=False,bins=50,weights=None,xlabel=\"Vs\",title=\"Vs Realizations\")\n",
        "plt.ylim(0.0,1000)\n",
        "\n",
        "plt.subplot(133)\n",
        "GSLIB.hist_st(rho,rho_min,rho_max,log=False,cumul=False,bins=50,weights=None,xlabel=\"rho\",title=\"Density Realizations\")\n",
        "plt.ylim(0.0,500)\n",
        "\n",
        "plt.subplots_adjust(left=0.0, bottom=0.0, right=2.0, top=1.2, wspace=0.2, hspace=0.2)\n",
        "plt.show()\n"
      ],
      "execution_count": null,
      "outputs": [
        {
          "output_type": "display_data",
          "data": {
            "image/png": "[encoded data removed]",
            "text/plain": [
              "<Figure size 432x288 with 3 Axes>"
            ]
          },
          "metadata": {
            "tags": [],
            "needs_background": "light"
          }
        }
      ]
    },
    {
      "cell_type": "code",
      "metadata": {
        "id": "jBHbad-kHScq"
      },
      "source": [
        "Pwave=np.zeros(10000)\n",
        "for i in range(10000):\n",
        "  Pwave[i] = gassmannvp(Vp[i],Vs[i],rho[i])"
      ],
      "execution_count": null,
      "outputs": []
    },
    {
      "cell_type": "code",
      "metadata": {
        "id": "n_E_19yJLd3t",
        "colab": {
          "base_uri": "https://localhost:8080/",
          "height": 424
        },
        "outputId": "1c4a8974-3a5c-471a-bbc5-ca60f7c6397b"
      },
      "source": [
        "plt.subplot(111)\n",
        "GSLIB.hist_st(Pwave,Vp_min,60000,log=False,cumul=False,bins=50,weights=None,xlabel=\"Vp_sat\",title=\"Vp_sat\")\n",
        "plt.ylim(0.0,750)\n",
        "plt.subplots_adjust(left=0.0, bottom=0.0, right=1.0, top=1.2, wspace=0.2, hspace=0.2)\n",
        "plt.show()"
      ],
      "execution_count": null,
      "outputs": [
        {
          "output_type": "display_data",
          "data": {
            "image/png": "[encoded data removed]",
            "text/plain": [
              "<Figure size 432x288 with 1 Axes>"
            ]
          },
          "metadata": {
            "tags": [],
            "needs_background": "light"
          }
        }
      ]
    },
    {
      "cell_type": "code",
      "metadata": {
        "id": "6OY0au3BQD8a"
      },
      "source": [
        "Swave=np.zeros(10000)\n",
        "for i in range(10000):\n",
        "  Swave[i] = gassmannvs(Vp[i],Vs[i],rho[i])"
      ],
      "execution_count": null,
      "outputs": []
    },
    {
      "cell_type": "code",
      "metadata": {
        "id": "86DwKgBqMQ0C",
        "colab": {
          "base_uri": "https://localhost:8080/",
          "height": 424
        },
        "outputId": "0fcb6492-0ea6-4e7f-df6a-01611573c27b"
      },
      "source": [
        "plt.subplot(111)\n",
        "GSLIB.hist_st(Swave,Vs_min,40000,log=False,cumul=False,bins=50,weights=None,xlabel=\"Vs_sat\",title=\"Vs_sat\")\n",
        "plt.ylim(0.0,750)\n",
        "plt.subplots_adjust(left=0.0, bottom=0.0, right=1.0, top=1.2, wspace=0.2, hspace=0.2)\n",
        "plt.show()"
      ],
      "execution_count": null,
      "outputs": [
        {
          "output_type": "display_data",
          "data": {
            "image/png": "[encoded data removed]",
            "text/plain": [
              "<Figure size 432x288 with 1 Axes>"
            ]
          },
          "metadata": {
            "tags": [],
            "needs_background": "light"
          }
        }
      ]
    },
    {
      "cell_type": "code",
      "metadata": {
        "id": "rBJw4KhwQTAX"
      },
      "source": [
        "Density=np.zeros(10000)\n",
        "for i in range(10000):\n",
        "  Density[i] = gassmannrho(Vp[i],Vs[i],rho[i])"
      ],
      "execution_count": null,
      "outputs": []
    },
    {
      "cell_type": "code",
      "metadata": {
        "id": "WfgZsQ1IQhmk",
        "colab": {
          "base_uri": "https://localhost:8080/",
          "height": 424
        },
        "outputId": "759a864e-b00f-46e5-a4d2-617584ec5a80"
      },
      "source": [
        "plt.subplot(111)\n",
        "GSLIB.hist_st(Density,rho_min,10,log=False,cumul=False,bins=50,weights=None,xlabel=\"Rho_sat\",title=\"Rho_sat\")\n",
        "plt.ylim(0.0,11000)\n",
        "plt.subplots_adjust(left=0.0, bottom=0.0, right=1.0, top=1.2, wspace=0.2, hspace=0.2)\n",
        "plt.show()"
      ],
      "execution_count": null,
      "outputs": [
        {
          "output_type": "display_data",
          "data": {
            "image/png": "[encoded data removed]",
            "text/plain": [
              "<Figure size 432x288 with 1 Axes>"
            ]
          },
          "metadata": {
            "tags": [],
            "needs_background": "light"
          }
        }
      ]
    }
  ]
}