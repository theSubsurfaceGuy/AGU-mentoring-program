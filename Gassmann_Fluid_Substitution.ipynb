{
  "nbformat": 4,
  "nbformat_minor": 0,
  "metadata": {
    "colab": {
      "name": "Gassmann Fluid Substitution",
      "provenance": []
    },
    "kernelspec": {
      "name": "python3",
      "display_name": "Python 3"
    },
    "widgets": {
      "application/vnd.jupyter.widget-state+json": {
        "72c8c0fea3224cc496c2749f01ffb583": {
          "model_module": "@jupyter-widgets/controls",
          "model_name": "IntSliderModel",
          "state": {
            "_view_name": "IntSliderView",
            "style": "IPY_MODEL_02d7d8bd4b7b461cbf71c4fd3a84f837",
            "_dom_classes": [],
            "description": "Oil gravity:",
            "step": 1,
            "_model_name": "IntSliderModel",
            "orientation": "horizontal",
            "max": 60,
            "_view_module": "@jupyter-widgets/controls",
            "_model_module_version": "1.5.0",
            "value": 0,
            "_view_count": null,
            "disabled": false,
            "_view_module_version": "1.5.0",
            "min": 0,
            "continuous_update": true,
            "readout_format": "d",
            "description_tooltip": null,
            "readout": true,
            "_model_module": "@jupyter-widgets/controls",
            "layout": "IPY_MODEL_af15b8af57c144438999cfebfa8a11f8"
          }
        },
        "02d7d8bd4b7b461cbf71c4fd3a84f837": {
          "model_module": "@jupyter-widgets/controls",
          "model_name": "SliderStyleModel",
          "state": {
            "_view_name": "StyleView",
            "handle_color": null,
            "_model_name": "SliderStyleModel",
            "description_width": "",
            "_view_module": "@jupyter-widgets/base",
            "_model_module_version": "1.5.0",
            "_view_count": null,
            "_view_module_version": "1.2.0",
            "_model_module": "@jupyter-widgets/controls"
          }
        },
        "af15b8af57c144438999cfebfa8a11f8": {
          "model_module": "@jupyter-widgets/base",
          "model_name": "LayoutModel",
          "state": {
            "_view_name": "LayoutView",
            "grid_template_rows": null,
            "right": null,
            "justify_content": null,
            "_view_module": "@jupyter-widgets/base",
            "overflow": null,
            "_model_module_version": "1.2.0",
            "_view_count": null,
            "flex_flow": null,
            "width": null,
            "min_width": null,
            "border": null,
            "align_items": null,
            "bottom": null,
            "_model_module": "@jupyter-widgets/base",
            "top": null,
            "grid_column": null,
            "overflow_y": null,
            "overflow_x": null,
            "grid_auto_flow": null,
            "grid_area": null,
            "grid_template_columns": null,
            "flex": null,
            "_model_name": "LayoutModel",
            "justify_items": null,
            "grid_row": null,
            "max_height": null,
            "align_content": null,
            "visibility": null,
            "align_self": null,
            "height": null,
            "min_height": null,
            "padding": null,
            "grid_auto_rows": null,
            "grid_gap": null,
            "max_width": null,
            "order": null,
            "_view_module_version": "1.2.0",
            "grid_template_areas": null,
            "object_position": null,
            "object_fit": null,
            "grid_auto_columns": null,
            "margin": null,
            "display": null,
            "left": null
          }
        },
        "627218910ca643ada5e5f16946c97d19": {
          "model_module": "@jupyter-widgets/controls",
          "model_name": "IntSliderModel",
          "state": {
            "_view_name": "IntSliderView",
            "style": "IPY_MODEL_cb1e783d43834b3cad755b8cc0613a78",
            "_dom_classes": [],
            "description": "GOR:",
            "step": 1,
            "_model_name": "IntSliderModel",
            "orientation": "horizontal",
            "max": 500,
            "_view_module": "@jupyter-widgets/controls",
            "_model_module_version": "1.5.0",
            "value": 0,
            "_view_count": null,
            "disabled": false,
            "_view_module_version": "1.5.0",
            "min": 0,
            "continuous_update": true,
            "readout_format": "d",
            "description_tooltip": null,
            "readout": true,
            "_model_module": "@jupyter-widgets/controls",
            "layout": "IPY_MODEL_915eb6608fcb4038959b9e4296bb85a1"
          }
        },
        "cb1e783d43834b3cad755b8cc0613a78": {
          "model_module": "@jupyter-widgets/controls",
          "model_name": "SliderStyleModel",
          "state": {
            "_view_name": "StyleView",
            "handle_color": null,
            "_model_name": "SliderStyleModel",
            "description_width": "",
            "_view_module": "@jupyter-widgets/base",
            "_model_module_version": "1.5.0",
            "_view_count": null,
            "_view_module_version": "1.2.0",
            "_model_module": "@jupyter-widgets/controls"
          }
        },
        "915eb6608fcb4038959b9e4296bb85a1": {
          "model_module": "@jupyter-widgets/base",
          "model_name": "LayoutModel",
          "state": {
            "_view_name": "LayoutView",
            "grid_template_rows": null,
            "right": null,
            "justify_content": null,
            "_view_module": "@jupyter-widgets/base",
            "overflow": null,
            "_model_module_version": "1.2.0",
            "_view_count": null,
            "flex_flow": null,
            "width": null,
            "min_width": null,
            "border": null,
            "align_items": null,
            "bottom": null,
            "_model_module": "@jupyter-widgets/base",
            "top": null,
            "grid_column": null,
            "overflow_y": null,
            "overflow_x": null,
            "grid_auto_flow": null,
            "grid_area": null,
            "grid_template_columns": null,
            "flex": null,
            "_model_name": "LayoutModel",
            "justify_items": null,
            "grid_row": null,
            "max_height": null,
            "align_content": null,
            "visibility": null,
            "align_self": null,
            "height": null,
            "min_height": null,
            "padding": null,
            "grid_auto_rows": null,
            "grid_gap": null,
            "max_width": null,
            "order": null,
            "_view_module_version": "1.2.0",
            "grid_template_areas": null,
            "object_position": null,
            "object_fit": null,
            "grid_auto_columns": null,
            "margin": null,
            "display": null,
            "left": null
          }
        },
        "fc0848568bdf461098e4a2ecdea3846f": {
          "model_module": "@jupyter-widgets/controls",
          "model_name": "FloatSliderModel",
          "state": {
            "_view_name": "FloatSliderView",
            "style": "IPY_MODEL_6fe1e3606e014aecb51f43b72ea135ae",
            "_dom_classes": [],
            "description": "Gas gravity:",
            "step": 0.1,
            "_model_name": "FloatSliderModel",
            "orientation": "horizontal",
            "max": 1,
            "_view_module": "@jupyter-widgets/controls",
            "_model_module_version": "1.5.0",
            "value": 0,
            "_view_count": null,
            "disabled": false,
            "_view_module_version": "1.5.0",
            "min": 0,
            "continuous_update": true,
            "readout_format": ".2f",
            "description_tooltip": null,
            "readout": true,
            "_model_module": "@jupyter-widgets/controls",
            "layout": "IPY_MODEL_32d5d8f4a31a4b92b8d308871ccf21d1"
          }
        },
        "6fe1e3606e014aecb51f43b72ea135ae": {
          "model_module": "@jupyter-widgets/controls",
          "model_name": "SliderStyleModel",
          "state": {
            "_view_name": "StyleView",
            "handle_color": null,
            "_model_name": "SliderStyleModel",
            "description_width": "",
            "_view_module": "@jupyter-widgets/base",
            "_model_module_version": "1.5.0",
            "_view_count": null,
            "_view_module_version": "1.2.0",
            "_model_module": "@jupyter-widgets/controls"
          }
        },
        "32d5d8f4a31a4b92b8d308871ccf21d1": {
          "model_module": "@jupyter-widgets/base",
          "model_name": "LayoutModel",
          "state": {
            "_view_name": "LayoutView",
            "grid_template_rows": null,
            "right": null,
            "justify_content": null,
            "_view_module": "@jupyter-widgets/base",
            "overflow": null,
            "_model_module_version": "1.2.0",
            "_view_count": null,
            "flex_flow": null,
            "width": null,
            "min_width": null,
            "border": null,
            "align_items": null,
            "bottom": null,
            "_model_module": "@jupyter-widgets/base",
            "top": null,
            "grid_column": null,
            "overflow_y": null,
            "overflow_x": null,
            "grid_auto_flow": null,
            "grid_area": null,
            "grid_template_columns": null,
            "flex": null,
            "_model_name": "LayoutModel",
            "justify_items": null,
            "grid_row": null,
            "max_height": null,
            "align_content": null,
            "visibility": null,
            "align_self": null,
            "height": null,
            "min_height": null,
            "padding": null,
            "grid_auto_rows": null,
            "grid_gap": null,
            "max_width": null,
            "order": null,
            "_view_module_version": "1.2.0",
            "grid_template_areas": null,
            "object_position": null,
            "object_fit": null,
            "grid_auto_columns": null,
            "margin": null,
            "display": null,
            "left": null
          }
        },
        "f1ffd5ac76bc4336b6d4173f98b435ab": {
          "model_module": "@jupyter-widgets/controls",
          "model_name": "IntSliderModel",
          "state": {
            "_view_name": "IntSliderView",
            "style": "IPY_MODEL_c48ea8bffbb04220827f24e849b4c2bc",
            "_dom_classes": [],
            "description": "Temp (C):",
            "step": 1,
            "_model_name": "IntSliderModel",
            "orientation": "horizontal",
            "max": 500,
            "_view_module": "@jupyter-widgets/controls",
            "_model_module_version": "1.5.0",
            "value": 0,
            "_view_count": null,
            "disabled": false,
            "_view_module_version": "1.5.0",
            "min": 0,
            "continuous_update": true,
            "readout_format": "d",
            "description_tooltip": null,
            "readout": true,
            "_model_module": "@jupyter-widgets/controls",
            "layout": "IPY_MODEL_bb7e3dad0ce4498cb6e66d02d2150fe0"
          }
        },
        "c48ea8bffbb04220827f24e849b4c2bc": {
          "model_module": "@jupyter-widgets/controls",
          "model_name": "SliderStyleModel",
          "state": {
            "_view_name": "StyleView",
            "handle_color": null,
            "_model_name": "SliderStyleModel",
            "description_width": "",
            "_view_module": "@jupyter-widgets/base",
            "_model_module_version": "1.5.0",
            "_view_count": null,
            "_view_module_version": "1.2.0",
            "_model_module": "@jupyter-widgets/controls"
          }
        },
        "bb7e3dad0ce4498cb6e66d02d2150fe0": {
          "model_module": "@jupyter-widgets/base",
          "model_name": "LayoutModel",
          "state": {
            "_view_name": "LayoutView",
            "grid_template_rows": null,
            "right": null,
            "justify_content": null,
            "_view_module": "@jupyter-widgets/base",
            "overflow": null,
            "_model_module_version": "1.2.0",
            "_view_count": null,
            "flex_flow": null,
            "width": null,
            "min_width": null,
            "border": null,
            "align_items": null,
            "bottom": null,
            "_model_module": "@jupyter-widgets/base",
            "top": null,
            "grid_column": null,
            "overflow_y": null,
            "overflow_x": null,
            "grid_auto_flow": null,
            "grid_area": null,
            "grid_template_columns": null,
            "flex": null,
            "_model_name": "LayoutModel",
            "justify_items": null,
            "grid_row": null,
            "max_height": null,
            "align_content": null,
            "visibility": null,
            "align_self": null,
            "height": null,
            "min_height": null,
            "padding": null,
            "grid_auto_rows": null,
            "grid_gap": null,
            "max_width": null,
            "order": null,
            "_view_module_version": "1.2.0",
            "grid_template_areas": null,
            "object_position": null,
            "object_fit": null,
            "grid_auto_columns": null,
            "margin": null,
            "display": null,
            "left": null
          }
        },
        "6e5e0f8afc364530840650823652ba81": {
          "model_module": "@jupyter-widgets/controls",
          "model_name": "IntSliderModel",
          "state": {
            "_view_name": "IntSliderView",
            "style": "IPY_MODEL_57f8f634922745668c4e680c8f25ca51",
            "_dom_classes": [],
            "description": "Pres(psi):",
            "step": 1,
            "_model_name": "IntSliderModel",
            "orientation": "horizontal",
            "max": 5000,
            "_view_module": "@jupyter-widgets/controls",
            "_model_module_version": "1.5.0",
            "value": 0,
            "_view_count": null,
            "disabled": false,
            "_view_module_version": "1.5.0",
            "min": 0,
            "continuous_update": true,
            "readout_format": "d",
            "description_tooltip": null,
            "readout": true,
            "_model_module": "@jupyter-widgets/controls",
            "layout": "IPY_MODEL_4293923dd8b642b6a27c295c8a37d23f"
          }
        },
        "57f8f634922745668c4e680c8f25ca51": {
          "model_module": "@jupyter-widgets/controls",
          "model_name": "SliderStyleModel",
          "state": {
            "_view_name": "StyleView",
            "handle_color": null,
            "_model_name": "SliderStyleModel",
            "description_width": "",
            "_view_module": "@jupyter-widgets/base",
            "_model_module_version": "1.5.0",
            "_view_count": null,
            "_view_module_version": "1.2.0",
            "_model_module": "@jupyter-widgets/controls"
          }
        },
        "4293923dd8b642b6a27c295c8a37d23f": {
          "model_module": "@jupyter-widgets/base",
          "model_name": "LayoutModel",
          "state": {
            "_view_name": "LayoutView",
            "grid_template_rows": null,
            "right": null,
            "justify_content": null,
            "_view_module": "@jupyter-widgets/base",
            "overflow": null,
            "_model_module_version": "1.2.0",
            "_view_count": null,
            "flex_flow": null,
            "width": null,
            "min_width": null,
            "border": null,
            "align_items": null,
            "bottom": null,
            "_model_module": "@jupyter-widgets/base",
            "top": null,
            "grid_column": null,
            "overflow_y": null,
            "overflow_x": null,
            "grid_auto_flow": null,
            "grid_area": null,
            "grid_template_columns": null,
            "flex": null,
            "_model_name": "LayoutModel",
            "justify_items": null,
            "grid_row": null,
            "max_height": null,
            "align_content": null,
            "visibility": null,
            "align_self": null,
            "height": null,
            "min_height": null,
            "padding": null,
            "grid_auto_rows": null,
            "grid_gap": null,
            "max_width": null,
            "order": null,
            "_view_module_version": "1.2.0",
            "grid_template_areas": null,
            "object_position": null,
            "object_fit": null,
            "grid_auto_columns": null,
            "margin": null,
            "display": null,
            "left": null
          }
        },
        "982ee2cee5ca4e2eaa43a4436ba8f444": {
          "model_module": "@jupyter-widgets/controls",
          "model_name": "IntSliderModel",
          "state": {
            "_view_name": "IntSliderView",
            "style": "IPY_MODEL_d931ed094e824425a13492cd2ed85133",
            "_dom_classes": [],
            "description": "Salinity(ppm):",
            "step": 1,
            "_model_name": "IntSliderModel",
            "orientation": "horizontal",
            "max": 6000,
            "_view_module": "@jupyter-widgets/controls",
            "_model_module_version": "1.5.0",
            "value": 0,
            "_view_count": null,
            "disabled": false,
            "_view_module_version": "1.5.0",
            "min": 0,
            "continuous_update": true,
            "readout_format": "d",
            "description_tooltip": null,
            "readout": true,
            "_model_module": "@jupyter-widgets/controls",
            "layout": "IPY_MODEL_c9ffccaed75d4bb58df5c2c2b0813da0"
          }
        },
        "d931ed094e824425a13492cd2ed85133": {
          "model_module": "@jupyter-widgets/controls",
          "model_name": "SliderStyleModel",
          "state": {
            "_view_name": "StyleView",
            "handle_color": null,
            "_model_name": "SliderStyleModel",
            "description_width": "",
            "_view_module": "@jupyter-widgets/base",
            "_model_module_version": "1.5.0",
            "_view_count": null,
            "_view_module_version": "1.2.0",
            "_model_module": "@jupyter-widgets/controls"
          }
        },
        "c9ffccaed75d4bb58df5c2c2b0813da0": {
          "model_module": "@jupyter-widgets/base",
          "model_name": "LayoutModel",
          "state": {
            "_view_name": "LayoutView",
            "grid_template_rows": null,
            "right": null,
            "justify_content": null,
            "_view_module": "@jupyter-widgets/base",
            "overflow": null,
            "_model_module_version": "1.2.0",
            "_view_count": null,
            "flex_flow": null,
            "width": null,
            "min_width": null,
            "border": null,
            "align_items": null,
            "bottom": null,
            "_model_module": "@jupyter-widgets/base",
            "top": null,
            "grid_column": null,
            "overflow_y": null,
            "overflow_x": null,
            "grid_auto_flow": null,
            "grid_area": null,
            "grid_template_columns": null,
            "flex": null,
            "_model_name": "LayoutModel",
            "justify_items": null,
            "grid_row": null,
            "max_height": null,
            "align_content": null,
            "visibility": null,
            "align_self": null,
            "height": null,
            "min_height": null,
            "padding": null,
            "grid_auto_rows": null,
            "grid_gap": null,
            "max_width": null,
            "order": null,
            "_view_module_version": "1.2.0",
            "grid_template_areas": null,
            "object_position": null,
            "object_fit": null,
            "grid_auto_columns": null,
            "margin": null,
            "display": null,
            "left": null
          }
        },
        "3d29d794e55f40ab81fcac67886bdcc9": {
          "model_module": "@jupyter-widgets/controls",
          "model_name": "FloatSliderModel",
          "state": {
            "_view_name": "FloatSliderView",
            "style": "IPY_MODEL_a45b2e441b1e4c1896830044131ad729",
            "_dom_classes": [],
            "description": "Porosity:",
            "step": 0.1,
            "_model_name": "FloatSliderModel",
            "orientation": "horizontal",
            "max": 1,
            "_view_module": "@jupyter-widgets/controls",
            "_model_module_version": "1.5.0",
            "value": 0,
            "_view_count": null,
            "disabled": false,
            "_view_module_version": "1.5.0",
            "min": 0,
            "continuous_update": true,
            "readout_format": ".2f",
            "description_tooltip": null,
            "readout": true,
            "_model_module": "@jupyter-widgets/controls",
            "layout": "IPY_MODEL_ee2ebf7889d14f47ba39bfb1d416bd63"
          }
        },
        "a45b2e441b1e4c1896830044131ad729": {
          "model_module": "@jupyter-widgets/controls",
          "model_name": "SliderStyleModel",
          "state": {
            "_view_name": "StyleView",
            "handle_color": null,
            "_model_name": "SliderStyleModel",
            "description_width": "",
            "_view_module": "@jupyter-widgets/base",
            "_model_module_version": "1.5.0",
            "_view_count": null,
            "_view_module_version": "1.2.0",
            "_model_module": "@jupyter-widgets/controls"
          }
        },
        "ee2ebf7889d14f47ba39bfb1d416bd63": {
          "model_module": "@jupyter-widgets/base",
          "model_name": "LayoutModel",
          "state": {
            "_view_name": "LayoutView",
            "grid_template_rows": null,
            "right": null,
            "justify_content": null,
            "_view_module": "@jupyter-widgets/base",
            "overflow": null,
            "_model_module_version": "1.2.0",
            "_view_count": null,
            "flex_flow": null,
            "width": null,
            "min_width": null,
            "border": null,
            "align_items": null,
            "bottom": null,
            "_model_module": "@jupyter-widgets/base",
            "top": null,
            "grid_column": null,
            "overflow_y": null,
            "overflow_x": null,
            "grid_auto_flow": null,
            "grid_area": null,
            "grid_template_columns": null,
            "flex": null,
            "_model_name": "LayoutModel",
            "justify_items": null,
            "grid_row": null,
            "max_height": null,
            "align_content": null,
            "visibility": null,
            "align_self": null,
            "height": null,
            "min_height": null,
            "padding": null,
            "grid_auto_rows": null,
            "grid_gap": null,
            "max_width": null,
            "order": null,
            "_view_module_version": "1.2.0",
            "grid_template_areas": null,
            "object_position": null,
            "object_fit": null,
            "grid_auto_columns": null,
            "margin": null,
            "display": null,
            "left": null
          }
        },
        "4f5ef486728a475ab738ea76ac9dd212": {
          "model_module": "@jupyter-widgets/controls",
          "model_name": "FloatSliderModel",
          "state": {
            "_view_name": "FloatSliderView",
            "style": "IPY_MODEL_009c9869a2ea489080916e775a172ae6",
            "_dom_classes": [],
            "description": "Shale Fraction:",
            "step": 0.1,
            "_model_name": "FloatSliderModel",
            "orientation": "horizontal",
            "max": 1,
            "_view_module": "@jupyter-widgets/controls",
            "_model_module_version": "1.5.0",
            "value": 0,
            "_view_count": null,
            "disabled": false,
            "_view_module_version": "1.5.0",
            "min": 0,
            "continuous_update": true,
            "readout_format": ".2f",
            "description_tooltip": null,
            "readout": true,
            "_model_module": "@jupyter-widgets/controls",
            "layout": "IPY_MODEL_4d73c364270446608f54ee088f4f1cc8"
          }
        },
        "009c9869a2ea489080916e775a172ae6": {
          "model_module": "@jupyter-widgets/controls",
          "model_name": "SliderStyleModel",
          "state": {
            "_view_name": "StyleView",
            "handle_color": null,
            "_model_name": "SliderStyleModel",
            "description_width": "",
            "_view_module": "@jupyter-widgets/base",
            "_model_module_version": "1.5.0",
            "_view_count": null,
            "_view_module_version": "1.2.0",
            "_model_module": "@jupyter-widgets/controls"
          }
        },
        "4d73c364270446608f54ee088f4f1cc8": {
          "model_module": "@jupyter-widgets/base",
          "model_name": "LayoutModel",
          "state": {
            "_view_name": "LayoutView",
            "grid_template_rows": null,
            "right": null,
            "justify_content": null,
            "_view_module": "@jupyter-widgets/base",
            "overflow": null,
            "_model_module_version": "1.2.0",
            "_view_count": null,
            "flex_flow": null,
            "width": null,
            "min_width": null,
            "border": null,
            "align_items": null,
            "bottom": null,
            "_model_module": "@jupyter-widgets/base",
            "top": null,
            "grid_column": null,
            "overflow_y": null,
            "overflow_x": null,
            "grid_auto_flow": null,
            "grid_area": null,
            "grid_template_columns": null,
            "flex": null,
            "_model_name": "LayoutModel",
            "justify_items": null,
            "grid_row": null,
            "max_height": null,
            "align_content": null,
            "visibility": null,
            "align_self": null,
            "height": null,
            "min_height": null,
            "padding": null,
            "grid_auto_rows": null,
            "grid_gap": null,
            "max_width": null,
            "order": null,
            "_view_module_version": "1.2.0",
            "grid_template_areas": null,
            "object_position": null,
            "object_fit": null,
            "grid_auto_columns": null,
            "margin": null,
            "display": null,
            "left": null
          }
        },
        "f08bd33b345d45cc8296eb4e35a33e16": {
          "model_module": "@jupyter-widgets/controls",
          "model_name": "FloatSliderModel",
          "state": {
            "_view_name": "FloatSliderView",
            "style": "IPY_MODEL_76b8c9c152cc47ecadc5dc49924e91bd",
            "_dom_classes": [],
            "description": "Sw initial:",
            "step": 0.1,
            "_model_name": "FloatSliderModel",
            "orientation": "horizontal",
            "max": 1,
            "_view_module": "@jupyter-widgets/controls",
            "_model_module_version": "1.5.0",
            "value": 0,
            "_view_count": null,
            "disabled": false,
            "_view_module_version": "1.5.0",
            "min": 0,
            "continuous_update": true,
            "readout_format": ".2f",
            "description_tooltip": null,
            "readout": true,
            "_model_module": "@jupyter-widgets/controls",
            "layout": "IPY_MODEL_1f15fb002c3d41a9a3a1ac3ee0df9d08"
          }
        },
        "76b8c9c152cc47ecadc5dc49924e91bd": {
          "model_module": "@jupyter-widgets/controls",
          "model_name": "SliderStyleModel",
          "state": {
            "_view_name": "StyleView",
            "handle_color": null,
            "_model_name": "SliderStyleModel",
            "description_width": "",
            "_view_module": "@jupyter-widgets/base",
            "_model_module_version": "1.5.0",
            "_view_count": null,
            "_view_module_version": "1.2.0",
            "_model_module": "@jupyter-widgets/controls"
          }
        },
        "1f15fb002c3d41a9a3a1ac3ee0df9d08": {
          "model_module": "@jupyter-widgets/base",
          "model_name": "LayoutModel",
          "state": {
            "_view_name": "LayoutView",
            "grid_template_rows": null,
            "right": null,
            "justify_content": null,
            "_view_module": "@jupyter-widgets/base",
            "overflow": null,
            "_model_module_version": "1.2.0",
            "_view_count": null,
            "flex_flow": null,
            "width": null,
            "min_width": null,
            "border": null,
            "align_items": null,
            "bottom": null,
            "_model_module": "@jupyter-widgets/base",
            "top": null,
            "grid_column": null,
            "overflow_y": null,
            "overflow_x": null,
            "grid_auto_flow": null,
            "grid_area": null,
            "grid_template_columns": null,
            "flex": null,
            "_model_name": "LayoutModel",
            "justify_items": null,
            "grid_row": null,
            "max_height": null,
            "align_content": null,
            "visibility": null,
            "align_self": null,
            "height": null,
            "min_height": null,
            "padding": null,
            "grid_auto_rows": null,
            "grid_gap": null,
            "max_width": null,
            "order": null,
            "_view_module_version": "1.2.0",
            "grid_template_areas": null,
            "object_position": null,
            "object_fit": null,
            "grid_auto_columns": null,
            "margin": null,
            "display": null,
            "left": null
          }
        },
        "560fd0f2a7d648859e796813aa4599eb": {
          "model_module": "@jupyter-widgets/controls",
          "model_name": "FloatSliderModel",
          "state": {
            "_view_name": "FloatSliderView",
            "style": "IPY_MODEL_d346fe5276804b8bb0a0f561b906cffc",
            "_dom_classes": [],
            "description": "Sw target:",
            "step": 0.1,
            "_model_name": "FloatSliderModel",
            "orientation": "horizontal",
            "max": 1,
            "_view_module": "@jupyter-widgets/controls",
            "_model_module_version": "1.5.0",
            "value": 0,
            "_view_count": null,
            "disabled": false,
            "_view_module_version": "1.5.0",
            "min": 0,
            "continuous_update": true,
            "readout_format": ".2f",
            "description_tooltip": null,
            "readout": true,
            "_model_module": "@jupyter-widgets/controls",
            "layout": "IPY_MODEL_7df21db28c704210999fbe753aa39648"
          }
        },
        "d346fe5276804b8bb0a0f561b906cffc": {
          "model_module": "@jupyter-widgets/controls",
          "model_name": "SliderStyleModel",
          "state": {
            "_view_name": "StyleView",
            "handle_color": null,
            "_model_name": "SliderStyleModel",
            "description_width": "",
            "_view_module": "@jupyter-widgets/base",
            "_model_module_version": "1.5.0",
            "_view_count": null,
            "_view_module_version": "1.2.0",
            "_model_module": "@jupyter-widgets/controls"
          }
        },
        "7df21db28c704210999fbe753aa39648": {
          "model_module": "@jupyter-widgets/base",
          "model_name": "LayoutModel",
          "state": {
            "_view_name": "LayoutView",
            "grid_template_rows": null,
            "right": null,
            "justify_content": null,
            "_view_module": "@jupyter-widgets/base",
            "overflow": null,
            "_model_module_version": "1.2.0",
            "_view_count": null,
            "flex_flow": null,
            "width": null,
            "min_width": null,
            "border": null,
            "align_items": null,
            "bottom": null,
            "_model_module": "@jupyter-widgets/base",
            "top": null,
            "grid_column": null,
            "overflow_y": null,
            "overflow_x": null,
            "grid_auto_flow": null,
            "grid_area": null,
            "grid_template_columns": null,
            "flex": null,
            "_model_name": "LayoutModel",
            "justify_items": null,
            "grid_row": null,
            "max_height": null,
            "align_content": null,
            "visibility": null,
            "align_self": null,
            "height": null,
            "min_height": null,
            "padding": null,
            "grid_auto_rows": null,
            "grid_gap": null,
            "max_width": null,
            "order": null,
            "_view_module_version": "1.2.0",
            "grid_template_areas": null,
            "object_position": null,
            "object_fit": null,
            "grid_auto_columns": null,
            "margin": null,
            "display": null,
            "left": null
          }
        },
        "82dea18cbf044894ac9cc9d2d8669f06": {
          "model_module": "@jupyter-widgets/controls",
          "model_name": "DropdownModel",
          "state": {
            "_options_labels": [
              "Oil",
              "Gas"
            ],
            "_view_name": "DropdownView",
            "style": "IPY_MODEL_93ce65ca6c764ba5b237f9f9b4261f95",
            "_dom_classes": [],
            "description": "Initial HC:",
            "_model_name": "DropdownModel",
            "index": 0,
            "_view_module": "@jupyter-widgets/controls",
            "_model_module_version": "1.5.0",
            "_view_count": null,
            "disabled": false,
            "_view_module_version": "1.5.0",
            "description_tooltip": null,
            "_model_module": "@jupyter-widgets/controls",
            "layout": "IPY_MODEL_f3ef685e91704fc5a4e8504428c11ddf"
          }
        },
        "93ce65ca6c764ba5b237f9f9b4261f95": {
          "model_module": "@jupyter-widgets/controls",
          "model_name": "DescriptionStyleModel",
          "state": {
            "_view_name": "StyleView",
            "_model_name": "DescriptionStyleModel",
            "description_width": "",
            "_view_module": "@jupyter-widgets/base",
            "_model_module_version": "1.5.0",
            "_view_count": null,
            "_view_module_version": "1.2.0",
            "_model_module": "@jupyter-widgets/controls"
          }
        },
        "f3ef685e91704fc5a4e8504428c11ddf": {
          "model_module": "@jupyter-widgets/base",
          "model_name": "LayoutModel",
          "state": {
            "_view_name": "LayoutView",
            "grid_template_rows": null,
            "right": null,
            "justify_content": null,
            "_view_module": "@jupyter-widgets/base",
            "overflow": null,
            "_model_module_version": "1.2.0",
            "_view_count": null,
            "flex_flow": null,
            "width": null,
            "min_width": null,
            "border": null,
            "align_items": null,
            "bottom": null,
            "_model_module": "@jupyter-widgets/base",
            "top": null,
            "grid_column": null,
            "overflow_y": null,
            "overflow_x": null,
            "grid_auto_flow": null,
            "grid_area": null,
            "grid_template_columns": null,
            "flex": null,
            "_model_name": "LayoutModel",
            "justify_items": null,
            "grid_row": null,
            "max_height": null,
            "align_content": null,
            "visibility": null,
            "align_self": null,
            "height": null,
            "min_height": null,
            "padding": null,
            "grid_auto_rows": null,
            "grid_gap": null,
            "max_width": null,
            "order": null,
            "_view_module_version": "1.2.0",
            "grid_template_areas": null,
            "object_position": null,
            "object_fit": null,
            "grid_auto_columns": null,
            "margin": null,
            "display": null,
            "left": null
          }
        },
        "18257190d7a345cfb76a676f4c11e31e": {
          "model_module": "@jupyter-widgets/controls",
          "model_name": "DropdownModel",
          "state": {
            "_options_labels": [
              "Brine",
              "Oil",
              "Gas"
            ],
            "_view_name": "DropdownView",
            "style": "IPY_MODEL_fd67ac9049c44234be8459d7a1932226",
            "_dom_classes": [],
            "description": "DesiredFluid",
            "_model_name": "DropdownModel",
            "index": 0,
            "_view_module": "@jupyter-widgets/controls",
            "_model_module_version": "1.5.0",
            "_view_count": null,
            "disabled": false,
            "_view_module_version": "1.5.0",
            "description_tooltip": null,
            "_model_module": "@jupyter-widgets/controls",
            "layout": "IPY_MODEL_248a4a61025341db8a9fcee2bf2b4806"
          }
        },
        "fd67ac9049c44234be8459d7a1932226": {
          "model_module": "@jupyter-widgets/controls",
          "model_name": "DescriptionStyleModel",
          "state": {
            "_view_name": "StyleView",
            "_model_name": "DescriptionStyleModel",
            "description_width": "",
            "_view_module": "@jupyter-widgets/base",
            "_model_module_version": "1.5.0",
            "_view_count": null,
            "_view_module_version": "1.2.0",
            "_model_module": "@jupyter-widgets/controls"
          }
        },
        "248a4a61025341db8a9fcee2bf2b4806": {
          "model_module": "@jupyter-widgets/base",
          "model_name": "LayoutModel",
          "state": {
            "_view_name": "LayoutView",
            "grid_template_rows": null,
            "right": null,
            "justify_content": null,
            "_view_module": "@jupyter-widgets/base",
            "overflow": null,
            "_model_module_version": "1.2.0",
            "_view_count": null,
            "flex_flow": null,
            "width": null,
            "min_width": null,
            "border": null,
            "align_items": null,
            "bottom": null,
            "_model_module": "@jupyter-widgets/base",
            "top": null,
            "grid_column": null,
            "overflow_y": null,
            "overflow_x": null,
            "grid_auto_flow": null,
            "grid_area": null,
            "grid_template_columns": null,
            "flex": null,
            "_model_name": "LayoutModel",
            "justify_items": null,
            "grid_row": null,
            "max_height": null,
            "align_content": null,
            "visibility": null,
            "align_self": null,
            "height": null,
            "min_height": null,
            "padding": null,
            "grid_auto_rows": null,
            "grid_gap": null,
            "max_width": null,
            "order": null,
            "_view_module_version": "1.2.0",
            "grid_template_areas": null,
            "object_position": null,
            "object_fit": null,
            "grid_auto_columns": null,
            "margin": null,
            "display": null,
            "left": null
          }
        },
        "2d91d5ca7ca84803a926129a1307f488": {
          "model_module": "@jupyter-widgets/controls",
          "model_name": "IntSliderModel",
          "state": {
            "_view_name": "IntSliderView",
            "style": "IPY_MODEL_a171acb1ec4c489b9817cbad0517bac9",
            "_dom_classes": [],
            "description": "Init Vp:",
            "step": 1,
            "_model_name": "IntSliderModel",
            "orientation": "horizontal",
            "max": 15000,
            "_view_module": "@jupyter-widgets/controls",
            "_model_module_version": "1.5.0",
            "value": 0,
            "_view_count": null,
            "disabled": false,
            "_view_module_version": "1.5.0",
            "min": 0,
            "continuous_update": true,
            "readout_format": "d",
            "description_tooltip": null,
            "readout": true,
            "_model_module": "@jupyter-widgets/controls",
            "layout": "IPY_MODEL_739c4deb65274e09aff9bb4b247f46aa"
          }
        },
        "a171acb1ec4c489b9817cbad0517bac9": {
          "model_module": "@jupyter-widgets/controls",
          "model_name": "SliderStyleModel",
          "state": {
            "_view_name": "StyleView",
            "handle_color": null,
            "_model_name": "SliderStyleModel",
            "description_width": "",
            "_view_module": "@jupyter-widgets/base",
            "_model_module_version": "1.5.0",
            "_view_count": null,
            "_view_module_version": "1.2.0",
            "_model_module": "@jupyter-widgets/controls"
          }
        },
        "739c4deb65274e09aff9bb4b247f46aa": {
          "model_module": "@jupyter-widgets/base",
          "model_name": "LayoutModel",
          "state": {
            "_view_name": "LayoutView",
            "grid_template_rows": null,
            "right": null,
            "justify_content": null,
            "_view_module": "@jupyter-widgets/base",
            "overflow": null,
            "_model_module_version": "1.2.0",
            "_view_count": null,
            "flex_flow": null,
            "width": null,
            "min_width": null,
            "border": null,
            "align_items": null,
            "bottom": null,
            "_model_module": "@jupyter-widgets/base",
            "top": null,
            "grid_column": null,
            "overflow_y": null,
            "overflow_x": null,
            "grid_auto_flow": null,
            "grid_area": null,
            "grid_template_columns": null,
            "flex": null,
            "_model_name": "LayoutModel",
            "justify_items": null,
            "grid_row": null,
            "max_height": null,
            "align_content": null,
            "visibility": null,
            "align_self": null,
            "height": null,
            "min_height": null,
            "padding": null,
            "grid_auto_rows": null,
            "grid_gap": null,
            "max_width": null,
            "order": null,
            "_view_module_version": "1.2.0",
            "grid_template_areas": null,
            "object_position": null,
            "object_fit": null,
            "grid_auto_columns": null,
            "margin": null,
            "display": null,
            "left": null
          }
        },
        "3cc2ebe34ed14abdbd359b78457eaec3": {
          "model_module": "@jupyter-widgets/controls",
          "model_name": "IntSliderModel",
          "state": {
            "_view_name": "IntSliderView",
            "style": "IPY_MODEL_d6381e339f18467282555b22adb4e6e5",
            "_dom_classes": [],
            "description": "Init Vs:",
            "step": 1,
            "_model_name": "IntSliderModel",
            "orientation": "horizontal",
            "max": 10000,
            "_view_module": "@jupyter-widgets/controls",
            "_model_module_version": "1.5.0",
            "value": 0,
            "_view_count": null,
            "disabled": false,
            "_view_module_version": "1.5.0",
            "min": 0,
            "continuous_update": true,
            "readout_format": "d",
            "description_tooltip": null,
            "readout": true,
            "_model_module": "@jupyter-widgets/controls",
            "layout": "IPY_MODEL_4d95a0a1ce2a4a25a3e36e2153628db1"
          }
        },
        "d6381e339f18467282555b22adb4e6e5": {
          "model_module": "@jupyter-widgets/controls",
          "model_name": "SliderStyleModel",
          "state": {
            "_view_name": "StyleView",
            "handle_color": null,
            "_model_name": "SliderStyleModel",
            "description_width": "",
            "_view_module": "@jupyter-widgets/base",
            "_model_module_version": "1.5.0",
            "_view_count": null,
            "_view_module_version": "1.2.0",
            "_model_module": "@jupyter-widgets/controls"
          }
        },
        "4d95a0a1ce2a4a25a3e36e2153628db1": {
          "model_module": "@jupyter-widgets/base",
          "model_name": "LayoutModel",
          "state": {
            "_view_name": "LayoutView",
            "grid_template_rows": null,
            "right": null,
            "justify_content": null,
            "_view_module": "@jupyter-widgets/base",
            "overflow": null,
            "_model_module_version": "1.2.0",
            "_view_count": null,
            "flex_flow": null,
            "width": null,
            "min_width": null,
            "border": null,
            "align_items": null,
            "bottom": null,
            "_model_module": "@jupyter-widgets/base",
            "top": null,
            "grid_column": null,
            "overflow_y": null,
            "overflow_x": null,
            "grid_auto_flow": null,
            "grid_area": null,
            "grid_template_columns": null,
            "flex": null,
            "_model_name": "LayoutModel",
            "justify_items": null,
            "grid_row": null,
            "max_height": null,
            "align_content": null,
            "visibility": null,
            "align_self": null,
            "height": null,
            "min_height": null,
            "padding": null,
            "grid_auto_rows": null,
            "grid_gap": null,
            "max_width": null,
            "order": null,
            "_view_module_version": "1.2.0",
            "grid_template_areas": null,
            "object_position": null,
            "object_fit": null,
            "grid_auto_columns": null,
            "margin": null,
            "display": null,
            "left": null
          }
        },
        "08759b0ce3d54db485aeeed741d07d68": {
          "model_module": "@jupyter-widgets/controls",
          "model_name": "FloatSliderModel",
          "state": {
            "_view_name": "FloatSliderView",
            "style": "IPY_MODEL_cce1f759669f44f9a0f87d0a5e37c3b2",
            "_dom_classes": [],
            "description": "Density init:",
            "step": 0.1,
            "_model_name": "FloatSliderModel",
            "orientation": "horizontal",
            "max": 8,
            "_view_module": "@jupyter-widgets/controls",
            "_model_module_version": "1.5.0",
            "value": 0,
            "_view_count": null,
            "disabled": false,
            "_view_module_version": "1.5.0",
            "min": 0,
            "continuous_update": true,
            "readout_format": ".2f",
            "description_tooltip": null,
            "readout": true,
            "_model_module": "@jupyter-widgets/controls",
            "layout": "IPY_MODEL_8ca7eb155d9344e7b888eb888c0e1e4b"
          }
        },
        "cce1f759669f44f9a0f87d0a5e37c3b2": {
          "model_module": "@jupyter-widgets/controls",
          "model_name": "SliderStyleModel",
          "state": {
            "_view_name": "StyleView",
            "handle_color": null,
            "_model_name": "SliderStyleModel",
            "description_width": "",
            "_view_module": "@jupyter-widgets/base",
            "_model_module_version": "1.5.0",
            "_view_count": null,
            "_view_module_version": "1.2.0",
            "_model_module": "@jupyter-widgets/controls"
          }
        },
        "8ca7eb155d9344e7b888eb888c0e1e4b": {
          "model_module": "@jupyter-widgets/base",
          "model_name": "LayoutModel",
          "state": {
            "_view_name": "LayoutView",
            "grid_template_rows": null,
            "right": null,
            "justify_content": null,
            "_view_module": "@jupyter-widgets/base",
            "overflow": null,
            "_model_module_version": "1.2.0",
            "_view_count": null,
            "flex_flow": null,
            "width": null,
            "min_width": null,
            "border": null,
            "align_items": null,
            "bottom": null,
            "_model_module": "@jupyter-widgets/base",
            "top": null,
            "grid_column": null,
            "overflow_y": null,
            "overflow_x": null,
            "grid_auto_flow": null,
            "grid_area": null,
            "grid_template_columns": null,
            "flex": null,
            "_model_name": "LayoutModel",
            "justify_items": null,
            "grid_row": null,
            "max_height": null,
            "align_content": null,
            "visibility": null,
            "align_self": null,
            "height": null,
            "min_height": null,
            "padding": null,
            "grid_auto_rows": null,
            "grid_gap": null,
            "max_width": null,
            "order": null,
            "_view_module_version": "1.2.0",
            "grid_template_areas": null,
            "object_position": null,
            "object_fit": null,
            "grid_auto_columns": null,
            "margin": null,
            "display": null,
            "left": null
          }
        }
      }
    }
  },
  "cells": [
    {
      "cell_type": "code",
      "metadata": {
        "id": "ByrPHXe7wXMs",
        "colab_type": "code",
        "colab": {}
      },
      "source": [
        "import ipywidgets as wg\n",
        "from IPython.display import display"
      ],
      "execution_count": null,
      "outputs": []
    },
    {
      "cell_type": "code",
      "metadata": {
        "id": "p7uDsdOXxJge",
        "colab_type": "code",
        "colab": {
          "base_uri": "https://localhost:8080/",
          "height": 469,
          "referenced_widgets": [
            "72c8c0fea3224cc496c2749f01ffb583",
            "02d7d8bd4b7b461cbf71c4fd3a84f837",
            "af15b8af57c144438999cfebfa8a11f8",
            "627218910ca643ada5e5f16946c97d19",
            "cb1e783d43834b3cad755b8cc0613a78",
            "915eb6608fcb4038959b9e4296bb85a1",
            "fc0848568bdf461098e4a2ecdea3846f",
            "6fe1e3606e014aecb51f43b72ea135ae",
            "32d5d8f4a31a4b92b8d308871ccf21d1",
            "f1ffd5ac76bc4336b6d4173f98b435ab",
            "c48ea8bffbb04220827f24e849b4c2bc",
            "bb7e3dad0ce4498cb6e66d02d2150fe0",
            "6e5e0f8afc364530840650823652ba81",
            "57f8f634922745668c4e680c8f25ca51",
            "4293923dd8b642b6a27c295c8a37d23f",
            "982ee2cee5ca4e2eaa43a4436ba8f444",
            "d931ed094e824425a13492cd2ed85133",
            "c9ffccaed75d4bb58df5c2c2b0813da0",
            "3d29d794e55f40ab81fcac67886bdcc9",
            "a45b2e441b1e4c1896830044131ad729",
            "ee2ebf7889d14f47ba39bfb1d416bd63",
            "4f5ef486728a475ab738ea76ac9dd212",
            "009c9869a2ea489080916e775a172ae6",
            "4d73c364270446608f54ee088f4f1cc8",
            "f08bd33b345d45cc8296eb4e35a33e16",
            "76b8c9c152cc47ecadc5dc49924e91bd",
            "1f15fb002c3d41a9a3a1ac3ee0df9d08",
            "560fd0f2a7d648859e796813aa4599eb",
            "d346fe5276804b8bb0a0f561b906cffc",
            "7df21db28c704210999fbe753aa39648",
            "82dea18cbf044894ac9cc9d2d8669f06",
            "93ce65ca6c764ba5b237f9f9b4261f95",
            "f3ef685e91704fc5a4e8504428c11ddf",
            "18257190d7a345cfb76a676f4c11e31e",
            "fd67ac9049c44234be8459d7a1932226",
            "248a4a61025341db8a9fcee2bf2b4806",
            "2d91d5ca7ca84803a926129a1307f488",
            "a171acb1ec4c489b9817cbad0517bac9",
            "739c4deb65274e09aff9bb4b247f46aa",
            "3cc2ebe34ed14abdbd359b78457eaec3",
            "d6381e339f18467282555b22adb4e6e5",
            "4d95a0a1ce2a4a25a3e36e2153628db1",
            "08759b0ce3d54db485aeeed741d07d68",
            "cce1f759669f44f9a0f87d0a5e37c3b2",
            "8ca7eb155d9344e7b888eb888c0e1e4b"
          ]
        },
        "outputId": "fcf92100-e282-4a24-90a0-c225814054c2"
      },
      "source": [
        "rho_o=wg.IntSlider(description='Oil gravity:', max=60)\n",
        "GOR=wg.IntSlider(description='GOR:', max=500)\n",
        "rho_g=wg.FloatSlider(description='Gas gravity:', max=1)\n",
        "T=wg.IntSlider(description='Temp (C):', max=500)\n",
        "P=wg.IntSlider(description='Pres(psi):', max=5000)\n",
        "S=wg.IntSlider(description='Salinity(ppm):', max=6000)\n",
        "phi=wg.FloatSlider(description='Porosity:', max=1)\n",
        "Vsh=wg.FloatSlider(description='Shale Fraction:', max=1)\n",
        "isw=wg.FloatSlider(description='Sw initial:', max=1)\n",
        "tsw=wg.FloatSlider(description='Sw target:', max=1)\n",
        "ifluid=wg.Dropdown( options=[('Oil', 1), ('Gas', 2)],description='Initial HC:')\n",
        "fluid=wg.Dropdown( options=[('Brine', 1), ('Oil', 2), ('Gas', 2)],description='DesiredFluid')\n",
        "vp=wg.IntSlider(description='Init Vp:', max=15000)\n",
        "vs=wg.IntSlider(description='Init Vs:', max=10000)\n",
        "rho=wg.FloatSlider(description='Density init:', max=8)\n",
        "display(rho_o,GOR, rho_g,T,P,S,phi,Vsh, isw,tsw,ifluid, fluid,vp,vs,rho)"
      ],
      "execution_count": null,
      "outputs": [
        {
          "output_type": "display_data",
          "data": {
            "application/vnd.jupyter.widget-view+json": {
              "model_id": "72c8c0fea3224cc496c2749f01ffb583",
              "version_minor": 0,
              "version_major": 2
            },
            "text/plain": [
              "IntSlider(value=0, description='Oil gravity:', max=60)"
            ]
          },
          "metadata": {
            "tags": []
          }
        },
        {
          "output_type": "display_data",
          "data": {
            "application/vnd.jupyter.widget-view+json": {
              "model_id": "627218910ca643ada5e5f16946c97d19",
              "version_minor": 0,
              "version_major": 2
            },
            "text/plain": [
              "IntSlider(value=0, description='GOR:', max=500)"
            ]
          },
          "metadata": {
            "tags": []
          }
        },
        {
          "output_type": "display_data",
          "data": {
            "application/vnd.jupyter.widget-view+json": {
              "model_id": "fc0848568bdf461098e4a2ecdea3846f",
              "version_minor": 0,
              "version_major": 2
            },
            "text/plain": [
              "FloatSlider(value=0.0, description='Gas gravity:', max=1.0)"
            ]
          },
          "metadata": {
            "tags": []
          }
        },
        {
          "output_type": "display_data",
          "data": {
            "application/vnd.jupyter.widget-view+json": {
              "model_id": "f1ffd5ac76bc4336b6d4173f98b435ab",
              "version_minor": 0,
              "version_major": 2
            },
            "text/plain": [
              "IntSlider(value=0, description='Temp (C):', max=500)"
            ]
          },
          "metadata": {
            "tags": []
          }
        },
        {
          "output_type": "display_data",
          "data": {
            "application/vnd.jupyter.widget-view+json": {
              "model_id": "6e5e0f8afc364530840650823652ba81",
              "version_minor": 0,
              "version_major": 2
            },
            "text/plain": [
              "IntSlider(value=0, description='Pres(psi):', max=5000)"
            ]
          },
          "metadata": {
            "tags": []
          }
        },
        {
          "output_type": "display_data",
          "data": {
            "application/vnd.jupyter.widget-view+json": {
              "model_id": "982ee2cee5ca4e2eaa43a4436ba8f444",
              "version_minor": 0,
              "version_major": 2
            },
            "text/plain": [
              "IntSlider(value=0, description='Salinity(ppm):', max=6000)"
            ]
          },
          "metadata": {
            "tags": []
          }
        },
        {
          "output_type": "display_data",
          "data": {
            "application/vnd.jupyter.widget-view+json": {
              "model_id": "3d29d794e55f40ab81fcac67886bdcc9",
              "version_minor": 0,
              "version_major": 2
            },
            "text/plain": [
              "FloatSlider(value=0.0, description='Porosity:', max=1.0)"
            ]
          },
          "metadata": {
            "tags": []
          }
        },
        {
          "output_type": "display_data",
          "data": {
            "application/vnd.jupyter.widget-view+json": {
              "model_id": "4f5ef486728a475ab738ea76ac9dd212",
              "version_minor": 0,
              "version_major": 2
            },
            "text/plain": [
              "FloatSlider(value=0.0, description='Shale Fraction:', max=1.0)"
            ]
          },
          "metadata": {
            "tags": []
          }
        },
        {
          "output_type": "display_data",
          "data": {
            "application/vnd.jupyter.widget-view+json": {
              "model_id": "f08bd33b345d45cc8296eb4e35a33e16",
              "version_minor": 0,
              "version_major": 2
            },
            "text/plain": [
              "FloatSlider(value=0.0, description='Sw initial:', max=1.0)"
            ]
          },
          "metadata": {
            "tags": []
          }
        },
        {
          "output_type": "display_data",
          "data": {
            "application/vnd.jupyter.widget-view+json": {
              "model_id": "560fd0f2a7d648859e796813aa4599eb",
              "version_minor": 0,
              "version_major": 2
            },
            "text/plain": [
              "FloatSlider(value=0.0, description='Sw target:', max=1.0)"
            ]
          },
          "metadata": {
            "tags": []
          }
        },
        {
          "output_type": "display_data",
          "data": {
            "application/vnd.jupyter.widget-view+json": {
              "model_id": "82dea18cbf044894ac9cc9d2d8669f06",
              "version_minor": 0,
              "version_major": 2
            },
            "text/plain": [
              "Dropdown(description='Initial HC:', options=(('Oil', 1), ('Gas', 2)), value=1)"
            ]
          },
          "metadata": {
            "tags": []
          }
        },
        {
          "output_type": "display_data",
          "data": {
            "application/vnd.jupyter.widget-view+json": {
              "model_id": "18257190d7a345cfb76a676f4c11e31e",
              "version_minor": 0,
              "version_major": 2
            },
            "text/plain": [
              "Dropdown(description='DesiredFluid', options=(('Brine', 1), ('Oil', 2), ('Gas', 2)), value=1)"
            ]
          },
          "metadata": {
            "tags": []
          }
        },
        {
          "output_type": "display_data",
          "data": {
            "application/vnd.jupyter.widget-view+json": {
              "model_id": "2d91d5ca7ca84803a926129a1307f488",
              "version_minor": 0,
              "version_major": 2
            },
            "text/plain": [
              "IntSlider(value=0, description='Init Vp:', max=15000)"
            ]
          },
          "metadata": {
            "tags": []
          }
        },
        {
          "output_type": "display_data",
          "data": {
            "application/vnd.jupyter.widget-view+json": {
              "model_id": "3cc2ebe34ed14abdbd359b78457eaec3",
              "version_minor": 0,
              "version_major": 2
            },
            "text/plain": [
              "IntSlider(value=0, description='Init Vs:', max=10000)"
            ]
          },
          "metadata": {
            "tags": []
          }
        },
        {
          "output_type": "display_data",
          "data": {
            "application/vnd.jupyter.widget-view+json": {
              "model_id": "08759b0ce3d54db485aeeed741d07d68",
              "version_minor": 0,
              "version_major": 2
            },
            "text/plain": [
              "FloatSlider(value=0.0, description='Density init:', max=8.0)"
            ]
          },
          "metadata": {
            "tags": []
          }
        }
      ]
    },
    {
      "cell_type": "code",
      "metadata": {
        "id": "3GdTrO7A_rb6",
        "colab_type": "code",
        "colab": {}
      },
      "source": [
        "rho_o = rho_o.value        #Oil gravity (deg API)\n",
        "GOR = GOR.value            #GOR (L/L)\n",
        "rho_g = rho_g.value        #Gas gravity (API)\n",
        "T = T.value                #Temperature (0 C)\n",
        "P = P.value                #Pressure (psi)\n",
        "S = S.value                #water salinity (ppm)\n",
        "phi = phi.value            #porosity (in fraction)\n",
        "vsh = vsh.value            #Vsh (volume shale in fraction)\n",
        "isw = isw.value            #initial water saturation (SW)\n",
        "tsw = tsw.value            #target water saturation (in fraction)\n",
        "ifluid = ifluid.value      #initial hydrocarbon is 1(oil), 2(gas)\n",
        "fluid = fluid.value        #Desired fluid is 1(brine), 2(oil) 3(gas)\n",
        "vp = vp.value              #ft/s - from log (initial value)\n",
        "vs = vs.value              #ft/s - from log (initial value)\n",
        "rho = rho.value            #gm/c - from log (initial value)"
      ],
      "execution_count": null,
      "outputs": []
    },
    {
      "cell_type": "code",
      "metadata": {
        "id": "EzQolin2IoCf",
        "colab_type": "code",
        "colab": {}
      },
      "source": [
        "rho_o = 42        #Oil gravity (deg API)\n",
        "GOR = 160.0       #GOR (L/L)\n",
        "rho_g = 0.9       #Gas gravity (API)\n",
        "T = 150.00        #Temperature (0 C)\n",
        "P = 3200.00       #Pressure (psi)\n",
        "S = 3800          #water salinity (ppm)\n",
        "phi = 0.20        #porosity (in fraction)\n",
        "vsh = 0.20        #Vsh (volume shale in fraction)\n",
        "isw = 0.40        #initial water saturation (SW)\n",
        "tsw = 1.00        #target water saturation (in fraction)\n",
        "ifluid = 1        #initial hydrocarbon is 1(oil), 2(gas)\n",
        "fluid = 3         #Desired fluid is 1(brine), 2(oil) 3(gas)\n",
        "vp = 11000.0      #ft/s - from log (initial value)\n",
        "vs = 6500.0       #ft/s - from log (initial value)\n",
        "rho = 2.2         #gm/c - from log (initial value)"
      ],
      "execution_count": null,
      "outputs": []
    },
    {
      "cell_type": "code",
      "metadata": {
        "id": "tKmd__MwLNTq",
        "colab_type": "code",
        "colab": {}
      },
      "source": [
        "#Fixed parameters (e.g., Mavko et al., 1998)\n",
        "k_clay = 20.9    #Bulk mod (GPa)\n",
        "k_qtz = 36.6\n",
        "rho_clay = 2.58  #gm/cc\n",
        "rho_qtz = 2.65"
      ],
      "execution_count": null,
      "outputs": []
    },
    {
      "cell_type": "code",
      "metadata": {
        "id": "ikSTrwlaLXP0",
        "colab_type": "code",
        "colab": {}
      },
      "source": [
        "#some applied properties\n",
        "div_mill = 1/1000000   #factor used to divide by million\n",
        "fs2kms = 0.000305      #factor for ft/s to km/s conversion\n",
        "kms2fs = 3280.84       #factor for km/s to ft/s conversion\n",
        "v_clay = vsh*0.70      #Assumption: V_clay = 70% of VSH\n",
        "v_qtz= 1-v_clay        #quartz fraction in mineral\n",
        "ish = 1-isw            #initial hydrocarbon saturation\n",
        "tsh = 1-tsw            #final hydrocarbon saturation\n",
        "rho_o = 141.5/(rho_o+131.5) #oil gravity in gm/cc (from API)\n",
        "P = P*6.894757*0.001         #Press in MPa (from Psi)\n",
        "S = S*div_mill               #salinity as weight fraction\n",
        "vp = vp*fs2kms               #ft/s to km/s\n",
        "vs = vs*fs2kms               #ft/s to km/s"
      ],
      "execution_count": null,
      "outputs": []
    },
    {
      "cell_type": "code",
      "metadata": {
        "id": "4d0FCXFNL4tp",
        "colab_type": "code",
        "colab": {}
      },
      "source": [
        "#Step 1: Matrix properties (using VRH averaging, equation 6)\n",
        "\n",
        "k_voigt = v_clay*k_clay + v_qtz*k_qtz\n",
        "k_reuss = 1/(v_clay/k_clay + v_qtz/k_qtz)\n",
        "k_matrix = 0.5*(k_voigt + k_reuss)                            #GPa\n",
        "rho_matrix = v_clay*rho_clay+v_qtz*rho_qtz                    #gm/cc"
      ],
      "execution_count": null,
      "outputs": []
    },
    {
      "cell_type": "code",
      "metadata": {
        "id": "Q9TTHDoPknS_",
        "colab_type": "code",
        "colab": {}
      },
      "source": [
        "import numpy as np\n",
        "w=np.zeros((5,4),dtype=float)"
      ],
      "execution_count": null,
      "outputs": []
    },
    {
      "cell_type": "code",
      "metadata": {
        "id": "I25ID4uXlffE",
        "colab_type": "code",
        "colab": {
          "base_uri": "https://localhost:8080/",
          "height": 102
        },
        "outputId": "c510e3c1-4dbf-4266-a5f9-000c039e8180"
      },
      "source": [
        "w"
      ],
      "execution_count": null,
      "outputs": [
        {
          "output_type": "execute_result",
          "data": {
            "text/plain": [
              "array([[0., 0., 0., 0.],\n",
              "       [0., 0., 0., 0.],\n",
              "       [0., 0., 0., 0.],\n",
              "       [0., 0., 0., 0.],\n",
              "       [0., 0., 0., 0.]])"
            ]
          },
          "metadata": {
            "tags": []
          },
          "execution_count": 75
        }
      ]
    },
    {
      "cell_type": "code",
      "metadata": {
        "id": "PdW3LmV7MEFm",
        "colab_type": "code",
        "colab": {}
      },
      "source": [
        "#Step 2: water/brine properties (Equations 10 and 11)\n",
        "w[0,0] = 1402.85 \n",
        "w[0,2] = 3.437*10**(-3)    #Table 2\n",
        "w[1,0] = 4.871\n",
        "w[1,2] = 1.739*10**(-4)\n",
        "w[2,0] = -0.04783\n",
        "w[2,2] = -2.135*10**(-6)\n",
        "w[3,0] = 1.487*10**(-4)\n",
        "w[3,2] = -1.455*10**(-8)\n",
        "w[4,0] = -2.197*10**(-7)\n",
        "w[4,2] = 5.230*10**(-11)\n",
        "w[0,1] = 1.524\n",
        "w[0,3] = -1.197*10**(-5)\n",
        "w[1,1] = -0.0111\n",
        "w[1,3] = -1.628*10**(-6)\n",
        "w[2,1] = 2.747*10**(-4)\n",
        "w[2,3] = 1.237*10**(-8)\n",
        "w[3,1] = -6.503*10**(-7)\n",
        "w[3,3] = 1.327*10**(-10)\n",
        "w[4,1] = 7.987*10**(-10)\n",
        "w[4,3] = -4.614*10**(-13)"
      ],
      "execution_count": null,
      "outputs": []
    },
    {
      "cell_type": "code",
      "metadata": {
        "id": "qNydeVhYlt1b",
        "colab_type": "code",
        "colab": {
          "base_uri": "https://localhost:8080/",
          "height": 102
        },
        "outputId": "d5f98692-d504-4d34-8241-051c1f6fbf07"
      },
      "source": [
        "w"
      ],
      "execution_count": null,
      "outputs": [
        {
          "output_type": "execute_result",
          "data": {
            "text/plain": [
              "array([[ 1.40285e+03,  1.52400e+00,  3.43700e-03, -1.19700e-05],\n",
              "       [ 4.87100e+00, -1.11000e-02,  1.73900e-04, -1.62800e-06],\n",
              "       [-4.78300e-02,  2.74700e-04, -2.13500e-06,  1.23700e-08],\n",
              "       [ 1.48700e-04, -6.50300e-07, -1.45500e-08,  1.32700e-10],\n",
              "       [-2.19700e-07,  7.98700e-10,  5.23000e-11, -4.61400e-13]])"
            ]
          },
          "metadata": {
            "tags": []
          },
          "execution_count": 77
        }
      ]
    },
    {
      "cell_type": "code",
      "metadata": {
        "id": "AROf2IEUbTPv",
        "colab_type": "code",
        "colab": {}
      },
      "source": [
        "sum = 0\n",
        "for i in range(5):\n",
        "  for j in range(4):\n",
        "    sum= sum+ w[i,j]*np.power(T,i-1)*np.power(P,j-1)\n",
        "v_water = sum"
      ],
      "execution_count": null,
      "outputs": []
    },
    {
      "cell_type": "code",
      "metadata": {
        "id": "rMMGWRsVs3yX",
        "colab_type": "code",
        "colab": {}
      },
      "source": [
        "v1 = 1170-9.6*T+(0.055*T*T)-8.5*(10**(-5))*T*T*T+2.6*P-0.0029*T*P-0.0476*P*P"
      ],
      "execution_count": null,
      "outputs": []
    },
    {
      "cell_type": "code",
      "metadata": {
        "id": "GTH5c2fMtTPk",
        "colab_type": "code",
        "colab": {}
      },
      "source": [
        "v_brine = v_water+S*v1+(S**1.5)*(780-10*P+0.16*P*P)-1820*S*S #m/s"
      ],
      "execution_count": null,
      "outputs": []
    },
    {
      "cell_type": "code",
      "metadata": {
        "id": "uhqhiA9yteTJ",
        "colab_type": "code",
        "colab": {}
      },
      "source": [
        "r1 = 489*P-2*T*P+0.016*T*T*P-1.3*(10**(-5))*T*T*T*P-0.333*P*P-0.002*T*P*P"
      ],
      "execution_count": null,
      "outputs": []
    },
    {
      "cell_type": "code",
      "metadata": {
        "id": "gt_oKHVbtkqm",
        "colab_type": "code",
        "colab": {}
      },
      "source": [
        "rho_water=1+(10**(-6))*(-80*T-3.3*T*T+0.00175*T*T*T+r1)"
      ],
      "execution_count": null,
      "outputs": []
    },
    {
      "cell_type": "code",
      "metadata": {
        "id": "RRNyS__TtpUs",
        "colab_type": "code",
        "colab": {}
      },
      "source": [
        "r2 = 300*P-2400*P*S+T*(80+3*T-3300*S-13*P+47*P*S)"
      ],
      "execution_count": null,
      "outputs": []
    },
    {
      "cell_type": "code",
      "metadata": {
        "id": "7hNmigFCtwsc",
        "colab_type": "code",
        "colab": {}
      },
      "source": [
        "rho_brine = rho_water+0.668*S+0.44*S*S+(10**(-6))*S*r2 #gm/cc (held const)"
      ],
      "execution_count": null,
      "outputs": []
    },
    {
      "cell_type": "code",
      "metadata": {
        "id": "nalRmzAut5iV",
        "colab_type": "code",
        "colab": {}
      },
      "source": [
        "k_brine = rho_brine*v_brine*v_brine*div_mill #GPa (held const)"
      ],
      "execution_count": null,
      "outputs": []
    },
    {
      "cell_type": "code",
      "metadata": {
        "id": "R4MEKWxruhYR",
        "colab_type": "code",
        "colab": {}
      },
      "source": [
        "import math\n",
        "#Step 3: Initial Hydrocarbon properties\n",
        "\n",
        "if ifluid == 1: #'Oil’ Oil by default contains gas also4\n",
        "  B0 = 0.972+0.00038*((2.495*GOR*math.sqrt(rho_g/rho_o)+T+17.8)**1.175)\n",
        "  rho_ps = rho_o/((1+0.001*GOR)*B0)\n",
        "  rho_s = (rho_o+0.0012*GOR*rho_g)/B0\n",
        "  r1 = rho_s+(0.00277*P-1.71*0.0000001*P*P*P)*((rho_s-1.15)**2)+3.49*0.0001*P\n",
        "  rho_hyc = r1/(0.972+3.81*0.0001*((T+17.78)**1.175))                                   #gm/cc (will change)\n",
        "  v = 2096*math.sqrt(rho_ps/(2.6-rho_ps))-3.7*T+4.64*P+0.0115*(math.sqrt(18.33/rho_ps-16.97)-1)*T*P\n",
        "  k_hyc = rho_hyc*v*v*div_mill  #GPa (will change)\n",
        "\n",
        "else:\n",
        "  R = 8.314 #gas means no OIL only gas is present, gas constant (eqn, same as in step7 for fluid == 3)\n",
        "  Ta = T+273.15\n",
        "  Ppr = P/(4.892-0.4048*rho_g)\n",
        "  Tpr = Ta/(94.72+170.75*rho_g)\n",
        "  E1 = exp((-Ppr**1.2)/(Tpr*(0.45+8*(0.56-1/Tpr)**2)))\n",
        "  E = 0.109*((3.85-Tpr)**2)*E1\n",
        "  Z1 = 0.03+0.00527*((3.5-Tpr)**3)\n",
        "  Z = Z1*Ppr+(0.642*Tpr-0.007*(Tpr**4)-0.52)+E\n",
        "  rho_hyc = 28.8*rho_g*P/(Z*R*Ta)\n",
        "  dz_dp = Z1+0.109*(3.85-Tpr)^2*E1*(-1.2*Ppr^0.2/Tpr*(0.45+8*(0.56-1/Tpr)**2))\n",
        "  yo = 0.85+5.6/(Ppr+2)+27.1/(Ppr+3.5)^2-8.7*exp(-0.65*(Ppr+1))\n",
        "  k_hyc = P*yo/1000*1.0/(1-Ppr/Z*dz_dp)                                               ###GPa"
      ],
      "execution_count": null,
      "outputs": []
    },
    {
      "cell_type": "code",
      "metadata": {
        "id": "QlmxeGrq3lXH",
        "colab_type": "code",
        "colab": {}
      },
      "source": [
        "#Step 4: Fluid properties(initial insitu model, equations 30 and 31\n",
        "k_fl = 1/(isw/k_brine+ish/k_hyc)\n",
        "rho_fl = isw*rho_brine+ish*rho_hyc"
      ],
      "execution_count": null,
      "outputs": []
    },
    {
      "cell_type": "code",
      "metadata": {
        "id": "o8y1l_Oh4qgB",
        "colab_type": "code",
        "colab": {}
      },
      "source": [
        "#Step 5: Insitu original moduli (for saturated – insitu rock, equations 4 and 5)\n",
        "\n",
        "dens_poros = 0 #1 (use porosity to est initial density), 0 (use input log)\n",
        "if dens_poros == 1:\n",
        "  rho = phi*rho_fl + (1-phi)*rho_matrix\n",
        "\n",
        "k_sat = rho*(vp*vp-vs*vs*4/3)     #GPa (will change in step 9)\n",
        "g = rho*vs*vs                     #GPa (held constant)"
      ],
      "execution_count": null,
      "outputs": []
    },
    {
      "cell_type": "code",
      "metadata": {
        "id": "uCW32kOE5daF",
        "colab_type": "code",
        "colab": {}
      },
      "source": [
        "#Step 6: Porous frame properties (rewrite Gassmann eqn, equation 36)\n",
        "\n",
        "k1 = k_sat*(phi*k_matrix/k_fl+1-phi)-k_matrix\n",
        "k2 = phi*k_matrix/k_fl+k_sat/k_matrix-1-phi\n",
        "k_frame = k1/k2 #GPa (held constant)"
      ],
      "execution_count": null,
      "outputs": []
    },
    {
      "cell_type": "code",
      "metadata": {
        "id": "dzjTpgyb5taW",
        "colab_type": "code",
        "colab": {
          "base_uri": "https://localhost:8080/",
          "height": 34
        },
        "outputId": "04bd288a-eb2c-4cf6-be8b-b204dd596059"
      },
      "source": [
        "#Step 7: select the type of output fluid, cal hyc/fluid prop (equations 32 to 35)\n",
        "\n",
        "if fluid == 1: #Brine\n",
        "  print(\"Changing fluid to brine\") \n",
        "\n",
        "if fluid == 2:     #Oil\n",
        "  print(\"Changing fluid to Oil [with dissolved gas] with TWS brine\")\n",
        "  B0 = 0.972+0.00038*(2.495*GOR*math.sqrt(rho_g/rho_o)+T+17.8)**1.175\n",
        "  rho_ps = rho_o/((1+0.001*GOR)*B0)\n",
        "  rho_s = (rho_o+0.0012*GOR*rho_g)/B0\n",
        "  r1 = rho_s+(0.00277*P-1.71*0.0000001*P*P*P)*((rho_s-1.15)**2)+3.49*0.0001*P\n",
        "  rho_hyc = r1/(0.972+3.81*0.0001*((T+17.78)**1.175))                                     #gm/cc (will change)\n",
        "  v = 2096*math.sqrt(rho_ps/(2.6-rho_ps))-3.7*T+4.64*P+0.0115*(math.sqrt(18.33/rho_ps-16.97)-1)*T*P\n",
        "  k_hyc = rho_hyc*v*v*div_mill #GPa (will change)\n",
        "\n",
        "if fluid == 3: #Gas\n",
        "  print(\"Changing fluid to Gas with TWS brine\")\n",
        "  R = 8.314\n",
        "  Ta = T+273.15\n",
        "  Ppr = P/(4.892-0.4048*rho_g)\n",
        "  Tpr = Ta/(94.72+170.75*rho_g)\n",
        "  E1 = math.exp(-Ppr**1.2/Tpr*(0.45+8*(0.56-1/Tpr)**2))\n",
        "  E = 0.109*((3.85-Tpr)**2)*E1\n",
        "  Z1 = 0.03+0.00527*((3.5-Tpr)**3)\n",
        "  Z = Z1*Ppr+0.642*Tpr-0.007*(Tpr**4)-0.52+E\n",
        "  rho_hyc = 28.8*rho_g*P/(Z*R*Ta)\n",
        "  dz_dp=Z1+0.109*((3.85-Tpr)**2)*E1*(-1.2*Ppr**0.2/Tpr*(0.45+8*(0.56-1/Tpr)**2))\n",
        "  yo = 0.85+5.6/(Ppr+2)+27.1/(Ppr+3.5)**2-8.7*math.exp(-0.65*(Ppr+1))\n",
        "  k_hyc = P*yo/1000*1.0/(1-Ppr/Z*dz_dp)                                                       #GPa"
      ],
      "execution_count": null,
      "outputs": [
        {
          "output_type": "stream",
          "text": [
            "Changing fluid to Gas with TWS brine\n"
          ],
          "name": "stdout"
        }
      ]
    },
    {
      "cell_type": "code",
      "metadata": {
        "id": "JDMgmVymKZX4",
        "colab_type": "code",
        "colab": {}
      },
      "source": [
        "##Step 8: Fluid properties (target saturation) and saturated rock density (equations 30 and 31)\n",
        "\n",
        "k_fl = 1/(tsw/k_brine + tsh/k_hyc)\n",
        "rho_fl = tsw*rho_brine + tsh*rho_hyc\n",
        "rho_sat = phi*rho_fl+(1-phi)*rho_matrix"
      ],
      "execution_count": null,
      "outputs": []
    },
    {
      "cell_type": "code",
      "metadata": {
        "id": "TfJ1j5hkNGmm",
        "colab_type": "code",
        "colab": {
          "base_uri": "https://localhost:8080/",
          "height": 34
        },
        "outputId": "57bdf11b-8bf5-46d5-80f5-f50d47cf9f12"
      },
      "source": [
        "rho_sat"
      ],
      "execution_count": null,
      "outputs": [
        {
          "output_type": "execute_result",
          "data": {
            "text/plain": [
              "2.2987991301334105"
            ]
          },
          "metadata": {
            "tags": []
          },
          "execution_count": 92
        }
      ]
    },
    {
      "cell_type": "code",
      "metadata": {
        "id": "qfoKhf9eKnJ-",
        "colab_type": "code",
        "colab": {}
      },
      "source": [
        "##Step 9: Gassmann Saturated bulk modulus (equation 3)\n",
        "\n",
        "k1 = phi/k_fl+(1-phi)/k_matrix-k_frame/(k_matrix*k_matrix)\n",
        "k_sat_new = k_frame + ((1-k_frame/k_matrix)**2)/k1"
      ],
      "execution_count": null,
      "outputs": []
    },
    {
      "cell_type": "code",
      "metadata": {
        "id": "LoDNPxUXMs6_",
        "colab_type": "code",
        "colab": {}
      },
      "source": [
        "##Step 10: Seismic velocity after fluid substitution (equations 1 and 2)\n",
        "\n",
        "vp_sat = math.sqrt((k_sat_new+g*4/3)/rho_sat)*kms2fs\n",
        "vs_sat = math.sqrt(g/rho_sat)*kms2fs"
      ],
      "execution_count": null,
      "outputs": []
    },
    {
      "cell_type": "code",
      "metadata": {
        "id": "BoRWd6_r_TPl",
        "colab_type": "code",
        "colab": {
          "base_uri": "https://localhost:8080/",
          "height": 34
        },
        "outputId": "054ce28a-fa16-4cc1-9471-6d2e305e7164"
      },
      "source": [
        "rho_sat"
      ],
      "execution_count": null,
      "outputs": [
        {
          "output_type": "execute_result",
          "data": {
            "text/plain": [
              "2.2987991301334105"
            ]
          },
          "metadata": {
            "tags": []
          },
          "execution_count": 95
        }
      ]
    },
    {
      "cell_type": "code",
      "metadata": {
        "id": "kdNW7_GzM5qB",
        "colab_type": "code",
        "colab": {
          "base_uri": "https://localhost:8080/",
          "height": 34
        },
        "outputId": "ceb11d10-2ee9-49d6-f6c6-495445d6e4c7"
      },
      "source": [
        "vp_sat"
      ],
      "execution_count": null,
      "outputs": [
        {
          "output_type": "execute_result",
          "data": {
            "text/plain": [
              "10768.077249881118"
            ]
          },
          "metadata": {
            "tags": []
          },
          "execution_count": 96
        }
      ]
    },
    {
      "cell_type": "code",
      "metadata": {
        "id": "Gev9DHeJM-dB",
        "colab_type": "code",
        "colab": {
          "base_uri": "https://localhost:8080/",
          "height": 34
        },
        "outputId": "13de6d3e-4a95-4482-d417-7244d3f53be2"
      },
      "source": [
        "vs_sat"
      ],
      "execution_count": null,
      "outputs": [
        {
          "output_type": "execute_result",
          "data": {
            "text/plain": [
              "6362.958277961363"
            ]
          },
          "metadata": {
            "tags": []
          },
          "execution_count": 97
        }
      ]
    }
  ]
}