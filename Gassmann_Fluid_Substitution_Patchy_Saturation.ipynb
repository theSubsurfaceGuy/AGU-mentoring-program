{
  "nbformat": 4,
  "nbformat_minor": 0,
  "metadata": {
    "colab": {
      "name": "Gassmann Fluid Substitution Patchy Saturation",
      "provenance": [],
      "collapsed_sections": [],
      "authorship_tag": "ABX9TyNm+o4zcH8mvbARGwPzC9K7",
      "include_colab_link": true
    },
    "kernelspec": {
      "name": "python3",
      "display_name": "Python 3"
    },
    "widgets": {
      "application/vnd.jupyter.widget-state+json": {
        "5138895ecb884ad5870f2b10c1a93796": {
          "model_module": "@jupyter-widgets/controls",
          "model_name": "IntSliderModel",
          "state": {
            "_view_name": "IntSliderView",
            "style": "IPY_MODEL_d98608fd86d4418c9f9b41ac7e0e4cd5",
            "_dom_classes": [],
            "description": "Oil gravity:",
            "step": 1,
            "_model_name": "IntSliderModel",
            "orientation": "horizontal",
            "max": 60,
            "_view_module": "@jupyter-widgets/controls",
            "_model_module_version": "1.5.0",
            "value": 0,
            "_view_count": null,
            "disabled": false,
            "_view_module_version": "1.5.0",
            "min": 0,
            "continuous_update": true,
            "readout_format": "d",
            "description_tooltip": null,
            "readout": true,
            "_model_module": "@jupyter-widgets/controls",
            "layout": "IPY_MODEL_bae9ae1c10774c0ca2b9d5279d2c0ea7"
          }
        },
        "d98608fd86d4418c9f9b41ac7e0e4cd5": {
          "model_module": "@jupyter-widgets/controls",
          "model_name": "SliderStyleModel",
          "state": {
            "_view_name": "StyleView",
            "handle_color": null,
            "_model_name": "SliderStyleModel",
            "description_width": "",
            "_view_module": "@jupyter-widgets/base",
            "_model_module_version": "1.5.0",
            "_view_count": null,
            "_view_module_version": "1.2.0",
            "_model_module": "@jupyter-widgets/controls"
          }
        },
        "bae9ae1c10774c0ca2b9d5279d2c0ea7": {
          "model_module": "@jupyter-widgets/base",
          "model_name": "LayoutModel",
          "state": {
            "_view_name": "LayoutView",
            "grid_template_rows": null,
            "right": null,
            "justify_content": null,
            "_view_module": "@jupyter-widgets/base",
            "overflow": null,
            "_model_module_version": "1.2.0",
            "_view_count": null,
            "flex_flow": null,
            "width": null,
            "min_width": null,
            "border": null,
            "align_items": null,
            "bottom": null,
            "_model_module": "@jupyter-widgets/base",
            "top": null,
            "grid_column": null,
            "overflow_y": null,
            "overflow_x": null,
            "grid_auto_flow": null,
            "grid_area": null,
            "grid_template_columns": null,
            "flex": null,
            "_model_name": "LayoutModel",
            "justify_items": null,
            "grid_row": null,
            "max_height": null,
            "align_content": null,
            "visibility": null,
            "align_self": null,
            "height": null,
            "min_height": null,
            "padding": null,
            "grid_auto_rows": null,
            "grid_gap": null,
            "max_width": null,
            "order": null,
            "_view_module_version": "1.2.0",
            "grid_template_areas": null,
            "object_position": null,
            "object_fit": null,
            "grid_auto_columns": null,
            "margin": null,
            "display": null,
            "left": null
          }
        },
        "757e0ea969c54de29caa859ee9bb2109": {
          "model_module": "@jupyter-widgets/controls",
          "model_name": "IntSliderModel",
          "state": {
            "_view_name": "IntSliderView",
            "style": "IPY_MODEL_1f3f83c77d6d47a99d1784a0207004a3",
            "_dom_classes": [],
            "description": "GOR:",
            "step": 1,
            "_model_name": "IntSliderModel",
            "orientation": "horizontal",
            "max": 500,
            "_view_module": "@jupyter-widgets/controls",
            "_model_module_version": "1.5.0",
            "value": 0,
            "_view_count": null,
            "disabled": false,
            "_view_module_version": "1.5.0",
            "min": 0,
            "continuous_update": true,
            "readout_format": "d",
            "description_tooltip": null,
            "readout": true,
            "_model_module": "@jupyter-widgets/controls",
            "layout": "IPY_MODEL_cf51e948c5f4415c886d122ab45c14d5"
          }
        },
        "1f3f83c77d6d47a99d1784a0207004a3": {
          "model_module": "@jupyter-widgets/controls",
          "model_name": "SliderStyleModel",
          "state": {
            "_view_name": "StyleView",
            "handle_color": null,
            "_model_name": "SliderStyleModel",
            "description_width": "",
            "_view_module": "@jupyter-widgets/base",
            "_model_module_version": "1.5.0",
            "_view_count": null,
            "_view_module_version": "1.2.0",
            "_model_module": "@jupyter-widgets/controls"
          }
        },
        "cf51e948c5f4415c886d122ab45c14d5": {
          "model_module": "@jupyter-widgets/base",
          "model_name": "LayoutModel",
          "state": {
            "_view_name": "LayoutView",
            "grid_template_rows": null,
            "right": null,
            "justify_content": null,
            "_view_module": "@jupyter-widgets/base",
            "overflow": null,
            "_model_module_version": "1.2.0",
            "_view_count": null,
            "flex_flow": null,
            "width": null,
            "min_width": null,
            "border": null,
            "align_items": null,
            "bottom": null,
            "_model_module": "@jupyter-widgets/base",
            "top": null,
            "grid_column": null,
            "overflow_y": null,
            "overflow_x": null,
            "grid_auto_flow": null,
            "grid_area": null,
            "grid_template_columns": null,
            "flex": null,
            "_model_name": "LayoutModel",
            "justify_items": null,
            "grid_row": null,
            "max_height": null,
            "align_content": null,
            "visibility": null,
            "align_self": null,
            "height": null,
            "min_height": null,
            "padding": null,
            "grid_auto_rows": null,
            "grid_gap": null,
            "max_width": null,
            "order": null,
            "_view_module_version": "1.2.0",
            "grid_template_areas": null,
            "object_position": null,
            "object_fit": null,
            "grid_auto_columns": null,
            "margin": null,
            "display": null,
            "left": null
          }
        },
        "744e5e327542467bbcdb0ea3c7334da7": {
          "model_module": "@jupyter-widgets/controls",
          "model_name": "FloatSliderModel",
          "state": {
            "_view_name": "FloatSliderView",
            "style": "IPY_MODEL_2c9ff6f190834156a58eb05f0f0c446c",
            "_dom_classes": [],
            "description": "Gas gravity:",
            "step": 0.1,
            "_model_name": "FloatSliderModel",
            "orientation": "horizontal",
            "max": 1,
            "_view_module": "@jupyter-widgets/controls",
            "_model_module_version": "1.5.0",
            "value": 0,
            "_view_count": null,
            "disabled": false,
            "_view_module_version": "1.5.0",
            "min": 0,
            "continuous_update": true,
            "readout_format": ".2f",
            "description_tooltip": null,
            "readout": true,
            "_model_module": "@jupyter-widgets/controls",
            "layout": "IPY_MODEL_548bb42ca69a494988f3f7f8e0fbed4d"
          }
        },
        "2c9ff6f190834156a58eb05f0f0c446c": {
          "model_module": "@jupyter-widgets/controls",
          "model_name": "SliderStyleModel",
          "state": {
            "_view_name": "StyleView",
            "handle_color": null,
            "_model_name": "SliderStyleModel",
            "description_width": "",
            "_view_module": "@jupyter-widgets/base",
            "_model_module_version": "1.5.0",
            "_view_count": null,
            "_view_module_version": "1.2.0",
            "_model_module": "@jupyter-widgets/controls"
          }
        },
        "548bb42ca69a494988f3f7f8e0fbed4d": {
          "model_module": "@jupyter-widgets/base",
          "model_name": "LayoutModel",
          "state": {
            "_view_name": "LayoutView",
            "grid_template_rows": null,
            "right": null,
            "justify_content": null,
            "_view_module": "@jupyter-widgets/base",
            "overflow": null,
            "_model_module_version": "1.2.0",
            "_view_count": null,
            "flex_flow": null,
            "width": null,
            "min_width": null,
            "border": null,
            "align_items": null,
            "bottom": null,
            "_model_module": "@jupyter-widgets/base",
            "top": null,
            "grid_column": null,
            "overflow_y": null,
            "overflow_x": null,
            "grid_auto_flow": null,
            "grid_area": null,
            "grid_template_columns": null,
            "flex": null,
            "_model_name": "LayoutModel",
            "justify_items": null,
            "grid_row": null,
            "max_height": null,
            "align_content": null,
            "visibility": null,
            "align_self": null,
            "height": null,
            "min_height": null,
            "padding": null,
            "grid_auto_rows": null,
            "grid_gap": null,
            "max_width": null,
            "order": null,
            "_view_module_version": "1.2.0",
            "grid_template_areas": null,
            "object_position": null,
            "object_fit": null,
            "grid_auto_columns": null,
            "margin": null,
            "display": null,
            "left": null
          }
        },
        "b7ff1a1f6b9f45ceabee23dd88dd1016": {
          "model_module": "@jupyter-widgets/controls",
          "model_name": "IntSliderModel",
          "state": {
            "_view_name": "IntSliderView",
            "style": "IPY_MODEL_0bbc696ada424712b00a8db1453d6791",
            "_dom_classes": [],
            "description": "Temp (C):",
            "step": 1,
            "_model_name": "IntSliderModel",
            "orientation": "horizontal",
            "max": 500,
            "_view_module": "@jupyter-widgets/controls",
            "_model_module_version": "1.5.0",
            "value": 0,
            "_view_count": null,
            "disabled": false,
            "_view_module_version": "1.5.0",
            "min": 0,
            "continuous_update": true,
            "readout_format": "d",
            "description_tooltip": null,
            "readout": true,
            "_model_module": "@jupyter-widgets/controls",
            "layout": "IPY_MODEL_48624a07608a445688a74178b90f9f60"
          }
        },
        "0bbc696ada424712b00a8db1453d6791": {
          "model_module": "@jupyter-widgets/controls",
          "model_name": "SliderStyleModel",
          "state": {
            "_view_name": "StyleView",
            "handle_color": null,
            "_model_name": "SliderStyleModel",
            "description_width": "",
            "_view_module": "@jupyter-widgets/base",
            "_model_module_version": "1.5.0",
            "_view_count": null,
            "_view_module_version": "1.2.0",
            "_model_module": "@jupyter-widgets/controls"
          }
        },
        "48624a07608a445688a74178b90f9f60": {
          "model_module": "@jupyter-widgets/base",
          "model_name": "LayoutModel",
          "state": {
            "_view_name": "LayoutView",
            "grid_template_rows": null,
            "right": null,
            "justify_content": null,
            "_view_module": "@jupyter-widgets/base",
            "overflow": null,
            "_model_module_version": "1.2.0",
            "_view_count": null,
            "flex_flow": null,
            "width": null,
            "min_width": null,
            "border": null,
            "align_items": null,
            "bottom": null,
            "_model_module": "@jupyter-widgets/base",
            "top": null,
            "grid_column": null,
            "overflow_y": null,
            "overflow_x": null,
            "grid_auto_flow": null,
            "grid_area": null,
            "grid_template_columns": null,
            "flex": null,
            "_model_name": "LayoutModel",
            "justify_items": null,
            "grid_row": null,
            "max_height": null,
            "align_content": null,
            "visibility": null,
            "align_self": null,
            "height": null,
            "min_height": null,
            "padding": null,
            "grid_auto_rows": null,
            "grid_gap": null,
            "max_width": null,
            "order": null,
            "_view_module_version": "1.2.0",
            "grid_template_areas": null,
            "object_position": null,
            "object_fit": null,
            "grid_auto_columns": null,
            "margin": null,
            "display": null,
            "left": null
          }
        },
        "53abe3681b434fad85de8c24719c2c6f": {
          "model_module": "@jupyter-widgets/controls",
          "model_name": "IntSliderModel",
          "state": {
            "_view_name": "IntSliderView",
            "style": "IPY_MODEL_c5a8d3cd28e64a47ad43b91c3666f68f",
            "_dom_classes": [],
            "description": "Pres(psi):",
            "step": 1,
            "_model_name": "IntSliderModel",
            "orientation": "horizontal",
            "max": 5000,
            "_view_module": "@jupyter-widgets/controls",
            "_model_module_version": "1.5.0",
            "value": 0,
            "_view_count": null,
            "disabled": false,
            "_view_module_version": "1.5.0",
            "min": 0,
            "continuous_update": true,
            "readout_format": "d",
            "description_tooltip": null,
            "readout": true,
            "_model_module": "@jupyter-widgets/controls",
            "layout": "IPY_MODEL_38f2f1b94fb5495d95206ba240c063a5"
          }
        },
        "c5a8d3cd28e64a47ad43b91c3666f68f": {
          "model_module": "@jupyter-widgets/controls",
          "model_name": "SliderStyleModel",
          "state": {
            "_view_name": "StyleView",
            "handle_color": null,
            "_model_name": "SliderStyleModel",
            "description_width": "",
            "_view_module": "@jupyter-widgets/base",
            "_model_module_version": "1.5.0",
            "_view_count": null,
            "_view_module_version": "1.2.0",
            "_model_module": "@jupyter-widgets/controls"
          }
        },
        "38f2f1b94fb5495d95206ba240c063a5": {
          "model_module": "@jupyter-widgets/base",
          "model_name": "LayoutModel",
          "state": {
            "_view_name": "LayoutView",
            "grid_template_rows": null,
            "right": null,
            "justify_content": null,
            "_view_module": "@jupyter-widgets/base",
            "overflow": null,
            "_model_module_version": "1.2.0",
            "_view_count": null,
            "flex_flow": null,
            "width": null,
            "min_width": null,
            "border": null,
            "align_items": null,
            "bottom": null,
            "_model_module": "@jupyter-widgets/base",
            "top": null,
            "grid_column": null,
            "overflow_y": null,
            "overflow_x": null,
            "grid_auto_flow": null,
            "grid_area": null,
            "grid_template_columns": null,
            "flex": null,
            "_model_name": "LayoutModel",
            "justify_items": null,
            "grid_row": null,
            "max_height": null,
            "align_content": null,
            "visibility": null,
            "align_self": null,
            "height": null,
            "min_height": null,
            "padding": null,
            "grid_auto_rows": null,
            "grid_gap": null,
            "max_width": null,
            "order": null,
            "_view_module_version": "1.2.0",
            "grid_template_areas": null,
            "object_position": null,
            "object_fit": null,
            "grid_auto_columns": null,
            "margin": null,
            "display": null,
            "left": null
          }
        },
        "22e484c29d4746a194e8ec90fcbcac38": {
          "model_module": "@jupyter-widgets/controls",
          "model_name": "IntSliderModel",
          "state": {
            "_view_name": "IntSliderView",
            "style": "IPY_MODEL_dbcf757533124ef3aaabd52af1fcfebf",
            "_dom_classes": [],
            "description": "Salinity(ppm):",
            "step": 1,
            "_model_name": "IntSliderModel",
            "orientation": "horizontal",
            "max": 6000,
            "_view_module": "@jupyter-widgets/controls",
            "_model_module_version": "1.5.0",
            "value": 0,
            "_view_count": null,
            "disabled": false,
            "_view_module_version": "1.5.0",
            "min": 0,
            "continuous_update": true,
            "readout_format": "d",
            "description_tooltip": null,
            "readout": true,
            "_model_module": "@jupyter-widgets/controls",
            "layout": "IPY_MODEL_16fa489cdbbd44a1babcb876b43818ec"
          }
        },
        "dbcf757533124ef3aaabd52af1fcfebf": {
          "model_module": "@jupyter-widgets/controls",
          "model_name": "SliderStyleModel",
          "state": {
            "_view_name": "StyleView",
            "handle_color": null,
            "_model_name": "SliderStyleModel",
            "description_width": "",
            "_view_module": "@jupyter-widgets/base",
            "_model_module_version": "1.5.0",
            "_view_count": null,
            "_view_module_version": "1.2.0",
            "_model_module": "@jupyter-widgets/controls"
          }
        },
        "16fa489cdbbd44a1babcb876b43818ec": {
          "model_module": "@jupyter-widgets/base",
          "model_name": "LayoutModel",
          "state": {
            "_view_name": "LayoutView",
            "grid_template_rows": null,
            "right": null,
            "justify_content": null,
            "_view_module": "@jupyter-widgets/base",
            "overflow": null,
            "_model_module_version": "1.2.0",
            "_view_count": null,
            "flex_flow": null,
            "width": null,
            "min_width": null,
            "border": null,
            "align_items": null,
            "bottom": null,
            "_model_module": "@jupyter-widgets/base",
            "top": null,
            "grid_column": null,
            "overflow_y": null,
            "overflow_x": null,
            "grid_auto_flow": null,
            "grid_area": null,
            "grid_template_columns": null,
            "flex": null,
            "_model_name": "LayoutModel",
            "justify_items": null,
            "grid_row": null,
            "max_height": null,
            "align_content": null,
            "visibility": null,
            "align_self": null,
            "height": null,
            "min_height": null,
            "padding": null,
            "grid_auto_rows": null,
            "grid_gap": null,
            "max_width": null,
            "order": null,
            "_view_module_version": "1.2.0",
            "grid_template_areas": null,
            "object_position": null,
            "object_fit": null,
            "grid_auto_columns": null,
            "margin": null,
            "display": null,
            "left": null
          }
        },
        "351cfb3f9773420e861e1b26fc3b16a6": {
          "model_module": "@jupyter-widgets/controls",
          "model_name": "FloatSliderModel",
          "state": {
            "_view_name": "FloatSliderView",
            "style": "IPY_MODEL_0ac8bd79934f4033b0d55517aa922d68",
            "_dom_classes": [],
            "description": "Porosity:",
            "step": 0.1,
            "_model_name": "FloatSliderModel",
            "orientation": "horizontal",
            "max": 1,
            "_view_module": "@jupyter-widgets/controls",
            "_model_module_version": "1.5.0",
            "value": 0,
            "_view_count": null,
            "disabled": false,
            "_view_module_version": "1.5.0",
            "min": 0,
            "continuous_update": true,
            "readout_format": ".2f",
            "description_tooltip": null,
            "readout": true,
            "_model_module": "@jupyter-widgets/controls",
            "layout": "IPY_MODEL_12dd90e5f6704414908b4f40a0616db6"
          }
        },
        "0ac8bd79934f4033b0d55517aa922d68": {
          "model_module": "@jupyter-widgets/controls",
          "model_name": "SliderStyleModel",
          "state": {
            "_view_name": "StyleView",
            "handle_color": null,
            "_model_name": "SliderStyleModel",
            "description_width": "",
            "_view_module": "@jupyter-widgets/base",
            "_model_module_version": "1.5.0",
            "_view_count": null,
            "_view_module_version": "1.2.0",
            "_model_module": "@jupyter-widgets/controls"
          }
        },
        "12dd90e5f6704414908b4f40a0616db6": {
          "model_module": "@jupyter-widgets/base",
          "model_name": "LayoutModel",
          "state": {
            "_view_name": "LayoutView",
            "grid_template_rows": null,
            "right": null,
            "justify_content": null,
            "_view_module": "@jupyter-widgets/base",
            "overflow": null,
            "_model_module_version": "1.2.0",
            "_view_count": null,
            "flex_flow": null,
            "width": null,
            "min_width": null,
            "border": null,
            "align_items": null,
            "bottom": null,
            "_model_module": "@jupyter-widgets/base",
            "top": null,
            "grid_column": null,
            "overflow_y": null,
            "overflow_x": null,
            "grid_auto_flow": null,
            "grid_area": null,
            "grid_template_columns": null,
            "flex": null,
            "_model_name": "LayoutModel",
            "justify_items": null,
            "grid_row": null,
            "max_height": null,
            "align_content": null,
            "visibility": null,
            "align_self": null,
            "height": null,
            "min_height": null,
            "padding": null,
            "grid_auto_rows": null,
            "grid_gap": null,
            "max_width": null,
            "order": null,
            "_view_module_version": "1.2.0",
            "grid_template_areas": null,
            "object_position": null,
            "object_fit": null,
            "grid_auto_columns": null,
            "margin": null,
            "display": null,
            "left": null
          }
        },
        "3f7c8f48fb7f441dba6b22ba238c3c93": {
          "model_module": "@jupyter-widgets/controls",
          "model_name": "FloatSliderModel",
          "state": {
            "_view_name": "FloatSliderView",
            "style": "IPY_MODEL_998d4ef34b8b4acbaeebd425c451e1ae",
            "_dom_classes": [],
            "description": "Shale Fraction:",
            "step": 0.1,
            "_model_name": "FloatSliderModel",
            "orientation": "horizontal",
            "max": 1,
            "_view_module": "@jupyter-widgets/controls",
            "_model_module_version": "1.5.0",
            "value": 0,
            "_view_count": null,
            "disabled": false,
            "_view_module_version": "1.5.0",
            "min": 0,
            "continuous_update": true,
            "readout_format": ".2f",
            "description_tooltip": null,
            "readout": true,
            "_model_module": "@jupyter-widgets/controls",
            "layout": "IPY_MODEL_bf9ffb184a474dae9a78ba75868cb607"
          }
        },
        "998d4ef34b8b4acbaeebd425c451e1ae": {
          "model_module": "@jupyter-widgets/controls",
          "model_name": "SliderStyleModel",
          "state": {
            "_view_name": "StyleView",
            "handle_color": null,
            "_model_name": "SliderStyleModel",
            "description_width": "",
            "_view_module": "@jupyter-widgets/base",
            "_model_module_version": "1.5.0",
            "_view_count": null,
            "_view_module_version": "1.2.0",
            "_model_module": "@jupyter-widgets/controls"
          }
        },
        "bf9ffb184a474dae9a78ba75868cb607": {
          "model_module": "@jupyter-widgets/base",
          "model_name": "LayoutModel",
          "state": {
            "_view_name": "LayoutView",
            "grid_template_rows": null,
            "right": null,
            "justify_content": null,
            "_view_module": "@jupyter-widgets/base",
            "overflow": null,
            "_model_module_version": "1.2.0",
            "_view_count": null,
            "flex_flow": null,
            "width": null,
            "min_width": null,
            "border": null,
            "align_items": null,
            "bottom": null,
            "_model_module": "@jupyter-widgets/base",
            "top": null,
            "grid_column": null,
            "overflow_y": null,
            "overflow_x": null,
            "grid_auto_flow": null,
            "grid_area": null,
            "grid_template_columns": null,
            "flex": null,
            "_model_name": "LayoutModel",
            "justify_items": null,
            "grid_row": null,
            "max_height": null,
            "align_content": null,
            "visibility": null,
            "align_self": null,
            "height": null,
            "min_height": null,
            "padding": null,
            "grid_auto_rows": null,
            "grid_gap": null,
            "max_width": null,
            "order": null,
            "_view_module_version": "1.2.0",
            "grid_template_areas": null,
            "object_position": null,
            "object_fit": null,
            "grid_auto_columns": null,
            "margin": null,
            "display": null,
            "left": null
          }
        },
        "f8c4d8ff5c44405985415d13d10c6194": {
          "model_module": "@jupyter-widgets/controls",
          "model_name": "FloatSliderModel",
          "state": {
            "_view_name": "FloatSliderView",
            "style": "IPY_MODEL_eb3fe15c98954e54abe1069f90883f18",
            "_dom_classes": [],
            "description": "Sw initial:",
            "step": 0.1,
            "_model_name": "FloatSliderModel",
            "orientation": "horizontal",
            "max": 1,
            "_view_module": "@jupyter-widgets/controls",
            "_model_module_version": "1.5.0",
            "value": 0,
            "_view_count": null,
            "disabled": false,
            "_view_module_version": "1.5.0",
            "min": 0,
            "continuous_update": true,
            "readout_format": ".2f",
            "description_tooltip": null,
            "readout": true,
            "_model_module": "@jupyter-widgets/controls",
            "layout": "IPY_MODEL_9dfb812a00524744ae0debb61f9c29ba"
          }
        },
        "eb3fe15c98954e54abe1069f90883f18": {
          "model_module": "@jupyter-widgets/controls",
          "model_name": "SliderStyleModel",
          "state": {
            "_view_name": "StyleView",
            "handle_color": null,
            "_model_name": "SliderStyleModel",
            "description_width": "",
            "_view_module": "@jupyter-widgets/base",
            "_model_module_version": "1.5.0",
            "_view_count": null,
            "_view_module_version": "1.2.0",
            "_model_module": "@jupyter-widgets/controls"
          }
        },
        "9dfb812a00524744ae0debb61f9c29ba": {
          "model_module": "@jupyter-widgets/base",
          "model_name": "LayoutModel",
          "state": {
            "_view_name": "LayoutView",
            "grid_template_rows": null,
            "right": null,
            "justify_content": null,
            "_view_module": "@jupyter-widgets/base",
            "overflow": null,
            "_model_module_version": "1.2.0",
            "_view_count": null,
            "flex_flow": null,
            "width": null,
            "min_width": null,
            "border": null,
            "align_items": null,
            "bottom": null,
            "_model_module": "@jupyter-widgets/base",
            "top": null,
            "grid_column": null,
            "overflow_y": null,
            "overflow_x": null,
            "grid_auto_flow": null,
            "grid_area": null,
            "grid_template_columns": null,
            "flex": null,
            "_model_name": "LayoutModel",
            "justify_items": null,
            "grid_row": null,
            "max_height": null,
            "align_content": null,
            "visibility": null,
            "align_self": null,
            "height": null,
            "min_height": null,
            "padding": null,
            "grid_auto_rows": null,
            "grid_gap": null,
            "max_width": null,
            "order": null,
            "_view_module_version": "1.2.0",
            "grid_template_areas": null,
            "object_position": null,
            "object_fit": null,
            "grid_auto_columns": null,
            "margin": null,
            "display": null,
            "left": null
          }
        },
        "954b7402371e4820afce8861fdbc8bbf": {
          "model_module": "@jupyter-widgets/controls",
          "model_name": "FloatSliderModel",
          "state": {
            "_view_name": "FloatSliderView",
            "style": "IPY_MODEL_9023a4f5c2da4aabbb77b51950f90d43",
            "_dom_classes": [],
            "description": "Sw target:",
            "step": 0.1,
            "_model_name": "FloatSliderModel",
            "orientation": "horizontal",
            "max": 1,
            "_view_module": "@jupyter-widgets/controls",
            "_model_module_version": "1.5.0",
            "value": 0,
            "_view_count": null,
            "disabled": false,
            "_view_module_version": "1.5.0",
            "min": 0,
            "continuous_update": true,
            "readout_format": ".2f",
            "description_tooltip": null,
            "readout": true,
            "_model_module": "@jupyter-widgets/controls",
            "layout": "IPY_MODEL_fb3215f1e0f54a989e23f2589921d325"
          }
        },
        "9023a4f5c2da4aabbb77b51950f90d43": {
          "model_module": "@jupyter-widgets/controls",
          "model_name": "SliderStyleModel",
          "state": {
            "_view_name": "StyleView",
            "handle_color": null,
            "_model_name": "SliderStyleModel",
            "description_width": "",
            "_view_module": "@jupyter-widgets/base",
            "_model_module_version": "1.5.0",
            "_view_count": null,
            "_view_module_version": "1.2.0",
            "_model_module": "@jupyter-widgets/controls"
          }
        },
        "fb3215f1e0f54a989e23f2589921d325": {
          "model_module": "@jupyter-widgets/base",
          "model_name": "LayoutModel",
          "state": {
            "_view_name": "LayoutView",
            "grid_template_rows": null,
            "right": null,
            "justify_content": null,
            "_view_module": "@jupyter-widgets/base",
            "overflow": null,
            "_model_module_version": "1.2.0",
            "_view_count": null,
            "flex_flow": null,
            "width": null,
            "min_width": null,
            "border": null,
            "align_items": null,
            "bottom": null,
            "_model_module": "@jupyter-widgets/base",
            "top": null,
            "grid_column": null,
            "overflow_y": null,
            "overflow_x": null,
            "grid_auto_flow": null,
            "grid_area": null,
            "grid_template_columns": null,
            "flex": null,
            "_model_name": "LayoutModel",
            "justify_items": null,
            "grid_row": null,
            "max_height": null,
            "align_content": null,
            "visibility": null,
            "align_self": null,
            "height": null,
            "min_height": null,
            "padding": null,
            "grid_auto_rows": null,
            "grid_gap": null,
            "max_width": null,
            "order": null,
            "_view_module_version": "1.2.0",
            "grid_template_areas": null,
            "object_position": null,
            "object_fit": null,
            "grid_auto_columns": null,
            "margin": null,
            "display": null,
            "left": null
          }
        },
        "43e23ce034d14b3095a96bdfacaadcf7": {
          "model_module": "@jupyter-widgets/controls",
          "model_name": "DropdownModel",
          "state": {
            "_options_labels": [
              "Oil",
              "Gas"
            ],
            "_view_name": "DropdownView",
            "style": "IPY_MODEL_721449417ddb4f2e9b0eb0371424189b",
            "_dom_classes": [],
            "description": "Initial HC:",
            "_model_name": "DropdownModel",
            "index": 0,
            "_view_module": "@jupyter-widgets/controls",
            "_model_module_version": "1.5.0",
            "_view_count": null,
            "disabled": false,
            "_view_module_version": "1.5.0",
            "description_tooltip": null,
            "_model_module": "@jupyter-widgets/controls",
            "layout": "IPY_MODEL_9069beb4fd764554814e453cbc006329"
          }
        },
        "721449417ddb4f2e9b0eb0371424189b": {
          "model_module": "@jupyter-widgets/controls",
          "model_name": "DescriptionStyleModel",
          "state": {
            "_view_name": "StyleView",
            "_model_name": "DescriptionStyleModel",
            "description_width": "",
            "_view_module": "@jupyter-widgets/base",
            "_model_module_version": "1.5.0",
            "_view_count": null,
            "_view_module_version": "1.2.0",
            "_model_module": "@jupyter-widgets/controls"
          }
        },
        "9069beb4fd764554814e453cbc006329": {
          "model_module": "@jupyter-widgets/base",
          "model_name": "LayoutModel",
          "state": {
            "_view_name": "LayoutView",
            "grid_template_rows": null,
            "right": null,
            "justify_content": null,
            "_view_module": "@jupyter-widgets/base",
            "overflow": null,
            "_model_module_version": "1.2.0",
            "_view_count": null,
            "flex_flow": null,
            "width": null,
            "min_width": null,
            "border": null,
            "align_items": null,
            "bottom": null,
            "_model_module": "@jupyter-widgets/base",
            "top": null,
            "grid_column": null,
            "overflow_y": null,
            "overflow_x": null,
            "grid_auto_flow": null,
            "grid_area": null,
            "grid_template_columns": null,
            "flex": null,
            "_model_name": "LayoutModel",
            "justify_items": null,
            "grid_row": null,
            "max_height": null,
            "align_content": null,
            "visibility": null,
            "align_self": null,
            "height": null,
            "min_height": null,
            "padding": null,
            "grid_auto_rows": null,
            "grid_gap": null,
            "max_width": null,
            "order": null,
            "_view_module_version": "1.2.0",
            "grid_template_areas": null,
            "object_position": null,
            "object_fit": null,
            "grid_auto_columns": null,
            "margin": null,
            "display": null,
            "left": null
          }
        },
        "278acbd1e58a496cad07467de795d4ca": {
          "model_module": "@jupyter-widgets/controls",
          "model_name": "DropdownModel",
          "state": {
            "_options_labels": [
              "Brine",
              "Oil",
              "Gas"
            ],
            "_view_name": "DropdownView",
            "style": "IPY_MODEL_5dc19bb1c32642f7b4860637c64d9ded",
            "_dom_classes": [],
            "description": "DesiredFluid",
            "_model_name": "DropdownModel",
            "index": 0,
            "_view_module": "@jupyter-widgets/controls",
            "_model_module_version": "1.5.0",
            "_view_count": null,
            "disabled": false,
            "_view_module_version": "1.5.0",
            "description_tooltip": null,
            "_model_module": "@jupyter-widgets/controls",
            "layout": "IPY_MODEL_3f119bff162c4b7fa925eef2f4defbe6"
          }
        },
        "5dc19bb1c32642f7b4860637c64d9ded": {
          "model_module": "@jupyter-widgets/controls",
          "model_name": "DescriptionStyleModel",
          "state": {
            "_view_name": "StyleView",
            "_model_name": "DescriptionStyleModel",
            "description_width": "",
            "_view_module": "@jupyter-widgets/base",
            "_model_module_version": "1.5.0",
            "_view_count": null,
            "_view_module_version": "1.2.0",
            "_model_module": "@jupyter-widgets/controls"
          }
        },
        "3f119bff162c4b7fa925eef2f4defbe6": {
          "model_module": "@jupyter-widgets/base",
          "model_name": "LayoutModel",
          "state": {
            "_view_name": "LayoutView",
            "grid_template_rows": null,
            "right": null,
            "justify_content": null,
            "_view_module": "@jupyter-widgets/base",
            "overflow": null,
            "_model_module_version": "1.2.0",
            "_view_count": null,
            "flex_flow": null,
            "width": null,
            "min_width": null,
            "border": null,
            "align_items": null,
            "bottom": null,
            "_model_module": "@jupyter-widgets/base",
            "top": null,
            "grid_column": null,
            "overflow_y": null,
            "overflow_x": null,
            "grid_auto_flow": null,
            "grid_area": null,
            "grid_template_columns": null,
            "flex": null,
            "_model_name": "LayoutModel",
            "justify_items": null,
            "grid_row": null,
            "max_height": null,
            "align_content": null,
            "visibility": null,
            "align_self": null,
            "height": null,
            "min_height": null,
            "padding": null,
            "grid_auto_rows": null,
            "grid_gap": null,
            "max_width": null,
            "order": null,
            "_view_module_version": "1.2.0",
            "grid_template_areas": null,
            "object_position": null,
            "object_fit": null,
            "grid_auto_columns": null,
            "margin": null,
            "display": null,
            "left": null
          }
        },
        "a1dd3b37b3c243959474ff78ef3cca71": {
          "model_module": "@jupyter-widgets/controls",
          "model_name": "IntSliderModel",
          "state": {
            "_view_name": "IntSliderView",
            "style": "IPY_MODEL_31e7f35460794f838c54df1dbaa866ce",
            "_dom_classes": [],
            "description": "Init Vp:",
            "step": 1,
            "_model_name": "IntSliderModel",
            "orientation": "horizontal",
            "max": 15000,
            "_view_module": "@jupyter-widgets/controls",
            "_model_module_version": "1.5.0",
            "value": 0,
            "_view_count": null,
            "disabled": false,
            "_view_module_version": "1.5.0",
            "min": 0,
            "continuous_update": true,
            "readout_format": "d",
            "description_tooltip": null,
            "readout": true,
            "_model_module": "@jupyter-widgets/controls",
            "layout": "IPY_MODEL_5695a3c076954428b015459177c307ab"
          }
        },
        "31e7f35460794f838c54df1dbaa866ce": {
          "model_module": "@jupyter-widgets/controls",
          "model_name": "SliderStyleModel",
          "state": {
            "_view_name": "StyleView",
            "handle_color": null,
            "_model_name": "SliderStyleModel",
            "description_width": "",
            "_view_module": "@jupyter-widgets/base",
            "_model_module_version": "1.5.0",
            "_view_count": null,
            "_view_module_version": "1.2.0",
            "_model_module": "@jupyter-widgets/controls"
          }
        },
        "5695a3c076954428b015459177c307ab": {
          "model_module": "@jupyter-widgets/base",
          "model_name": "LayoutModel",
          "state": {
            "_view_name": "LayoutView",
            "grid_template_rows": null,
            "right": null,
            "justify_content": null,
            "_view_module": "@jupyter-widgets/base",
            "overflow": null,
            "_model_module_version": "1.2.0",
            "_view_count": null,
            "flex_flow": null,
            "width": null,
            "min_width": null,
            "border": null,
            "align_items": null,
            "bottom": null,
            "_model_module": "@jupyter-widgets/base",
            "top": null,
            "grid_column": null,
            "overflow_y": null,
            "overflow_x": null,
            "grid_auto_flow": null,
            "grid_area": null,
            "grid_template_columns": null,
            "flex": null,
            "_model_name": "LayoutModel",
            "justify_items": null,
            "grid_row": null,
            "max_height": null,
            "align_content": null,
            "visibility": null,
            "align_self": null,
            "height": null,
            "min_height": null,
            "padding": null,
            "grid_auto_rows": null,
            "grid_gap": null,
            "max_width": null,
            "order": null,
            "_view_module_version": "1.2.0",
            "grid_template_areas": null,
            "object_position": null,
            "object_fit": null,
            "grid_auto_columns": null,
            "margin": null,
            "display": null,
            "left": null
          }
        },
        "ebbe84690bb747e3ad51aa1f17ac2448": {
          "model_module": "@jupyter-widgets/controls",
          "model_name": "IntSliderModel",
          "state": {
            "_view_name": "IntSliderView",
            "style": "IPY_MODEL_cda1b7bebfc84482a24204915c8b1bba",
            "_dom_classes": [],
            "description": "Init Vs:",
            "step": 1,
            "_model_name": "IntSliderModel",
            "orientation": "horizontal",
            "max": 10000,
            "_view_module": "@jupyter-widgets/controls",
            "_model_module_version": "1.5.0",
            "value": 0,
            "_view_count": null,
            "disabled": false,
            "_view_module_version": "1.5.0",
            "min": 0,
            "continuous_update": true,
            "readout_format": "d",
            "description_tooltip": null,
            "readout": true,
            "_model_module": "@jupyter-widgets/controls",
            "layout": "IPY_MODEL_7aa74e649d124649ab294f77656c7be4"
          }
        },
        "cda1b7bebfc84482a24204915c8b1bba": {
          "model_module": "@jupyter-widgets/controls",
          "model_name": "SliderStyleModel",
          "state": {
            "_view_name": "StyleView",
            "handle_color": null,
            "_model_name": "SliderStyleModel",
            "description_width": "",
            "_view_module": "@jupyter-widgets/base",
            "_model_module_version": "1.5.0",
            "_view_count": null,
            "_view_module_version": "1.2.0",
            "_model_module": "@jupyter-widgets/controls"
          }
        },
        "7aa74e649d124649ab294f77656c7be4": {
          "model_module": "@jupyter-widgets/base",
          "model_name": "LayoutModel",
          "state": {
            "_view_name": "LayoutView",
            "grid_template_rows": null,
            "right": null,
            "justify_content": null,
            "_view_module": "@jupyter-widgets/base",
            "overflow": null,
            "_model_module_version": "1.2.0",
            "_view_count": null,
            "flex_flow": null,
            "width": null,
            "min_width": null,
            "border": null,
            "align_items": null,
            "bottom": null,
            "_model_module": "@jupyter-widgets/base",
            "top": null,
            "grid_column": null,
            "overflow_y": null,
            "overflow_x": null,
            "grid_auto_flow": null,
            "grid_area": null,
            "grid_template_columns": null,
            "flex": null,
            "_model_name": "LayoutModel",
            "justify_items": null,
            "grid_row": null,
            "max_height": null,
            "align_content": null,
            "visibility": null,
            "align_self": null,
            "height": null,
            "min_height": null,
            "padding": null,
            "grid_auto_rows": null,
            "grid_gap": null,
            "max_width": null,
            "order": null,
            "_view_module_version": "1.2.0",
            "grid_template_areas": null,
            "object_position": null,
            "object_fit": null,
            "grid_auto_columns": null,
            "margin": null,
            "display": null,
            "left": null
          }
        },
        "da89893c37b140da9a8e91b5f89e7f96": {
          "model_module": "@jupyter-widgets/controls",
          "model_name": "FloatSliderModel",
          "state": {
            "_view_name": "FloatSliderView",
            "style": "IPY_MODEL_d97687ffd95c4a9082fc50ebeacb94b6",
            "_dom_classes": [],
            "description": "Density init:",
            "step": 0.1,
            "_model_name": "FloatSliderModel",
            "orientation": "horizontal",
            "max": 8,
            "_view_module": "@jupyter-widgets/controls",
            "_model_module_version": "1.5.0",
            "value": 0,
            "_view_count": null,
            "disabled": false,
            "_view_module_version": "1.5.0",
            "min": 0,
            "continuous_update": true,
            "readout_format": ".2f",
            "description_tooltip": null,
            "readout": true,
            "_model_module": "@jupyter-widgets/controls",
            "layout": "IPY_MODEL_889e8a8afaf3474eb19ee9623facf0b4"
          }
        },
        "d97687ffd95c4a9082fc50ebeacb94b6": {
          "model_module": "@jupyter-widgets/controls",
          "model_name": "SliderStyleModel",
          "state": {
            "_view_name": "StyleView",
            "handle_color": null,
            "_model_name": "SliderStyleModel",
            "description_width": "",
            "_view_module": "@jupyter-widgets/base",
            "_model_module_version": "1.5.0",
            "_view_count": null,
            "_view_module_version": "1.2.0",
            "_model_module": "@jupyter-widgets/controls"
          }
        },
        "889e8a8afaf3474eb19ee9623facf0b4": {
          "model_module": "@jupyter-widgets/base",
          "model_name": "LayoutModel",
          "state": {
            "_view_name": "LayoutView",
            "grid_template_rows": null,
            "right": null,
            "justify_content": null,
            "_view_module": "@jupyter-widgets/base",
            "overflow": null,
            "_model_module_version": "1.2.0",
            "_view_count": null,
            "flex_flow": null,
            "width": null,
            "min_width": null,
            "border": null,
            "align_items": null,
            "bottom": null,
            "_model_module": "@jupyter-widgets/base",
            "top": null,
            "grid_column": null,
            "overflow_y": null,
            "overflow_x": null,
            "grid_auto_flow": null,
            "grid_area": null,
            "grid_template_columns": null,
            "flex": null,
            "_model_name": "LayoutModel",
            "justify_items": null,
            "grid_row": null,
            "max_height": null,
            "align_content": null,
            "visibility": null,
            "align_self": null,
            "height": null,
            "min_height": null,
            "padding": null,
            "grid_auto_rows": null,
            "grid_gap": null,
            "max_width": null,
            "order": null,
            "_view_module_version": "1.2.0",
            "grid_template_areas": null,
            "object_position": null,
            "object_fit": null,
            "grid_auto_columns": null,
            "margin": null,
            "display": null,
            "left": null
          }
        }
      }
    }
  },
  "cells": [
    {
      "cell_type": "markdown",
      "metadata": {
        "id": "view-in-github",
        "colab_type": "text"
      },
      "source": [
        "<a href=\"https://colab.research.google.com/github/theSubsurfaceGuy/AGU-mentoring-program/blob/master/Gassmann_Fluid_Substitution_Patchy_Saturation.ipynb\" target=\"_parent\"><img src=\"https://colab.research.google.com/assets/colab-badge.svg\" alt=\"Open In Colab\"/></a>"
      ]
    },
    {
      "cell_type": "markdown",
      "metadata": {
        "id": "H-UP5NF_VWaR",
        "colab_type": "text"
      },
      "source": [
        "#Reference papers to follow along the code \n",
        "\n",
        "Kumar, D., 2006, A tutorial on Gassmann Fluid Substitution: Formulation, Algorithm and Matlab code: Geohorizons, 11, 4-12\n",
        "\n",
        "Dvorkin etal, 2001, Identifying patchy saturations from well log\n"
      ]
    },
    {
      "cell_type": "code",
      "metadata": {
        "id": "ByrPHXe7wXMs",
        "colab_type": "code",
        "colab": {}
      },
      "source": [
        "import ipywidgets as wg\n",
        "from IPython.display import display"
      ],
      "execution_count": null,
      "outputs": []
    },
    {
      "cell_type": "code",
      "metadata": {
        "id": "p7uDsdOXxJge",
        "colab_type": "code",
        "colab": {
          "base_uri": "https://localhost:8080/",
          "height": 469,
          "referenced_widgets": [
            "5138895ecb884ad5870f2b10c1a93796",
            "d98608fd86d4418c9f9b41ac7e0e4cd5",
            "bae9ae1c10774c0ca2b9d5279d2c0ea7",
            "757e0ea969c54de29caa859ee9bb2109",
            "1f3f83c77d6d47a99d1784a0207004a3",
            "cf51e948c5f4415c886d122ab45c14d5",
            "744e5e327542467bbcdb0ea3c7334da7",
            "2c9ff6f190834156a58eb05f0f0c446c",
            "548bb42ca69a494988f3f7f8e0fbed4d",
            "b7ff1a1f6b9f45ceabee23dd88dd1016",
            "0bbc696ada424712b00a8db1453d6791",
            "48624a07608a445688a74178b90f9f60",
            "53abe3681b434fad85de8c24719c2c6f",
            "c5a8d3cd28e64a47ad43b91c3666f68f",
            "38f2f1b94fb5495d95206ba240c063a5",
            "22e484c29d4746a194e8ec90fcbcac38",
            "dbcf757533124ef3aaabd52af1fcfebf",
            "16fa489cdbbd44a1babcb876b43818ec",
            "351cfb3f9773420e861e1b26fc3b16a6",
            "0ac8bd79934f4033b0d55517aa922d68",
            "12dd90e5f6704414908b4f40a0616db6",
            "3f7c8f48fb7f441dba6b22ba238c3c93",
            "998d4ef34b8b4acbaeebd425c451e1ae",
            "bf9ffb184a474dae9a78ba75868cb607",
            "f8c4d8ff5c44405985415d13d10c6194",
            "eb3fe15c98954e54abe1069f90883f18",
            "9dfb812a00524744ae0debb61f9c29ba",
            "954b7402371e4820afce8861fdbc8bbf",
            "9023a4f5c2da4aabbb77b51950f90d43",
            "fb3215f1e0f54a989e23f2589921d325",
            "43e23ce034d14b3095a96bdfacaadcf7",
            "721449417ddb4f2e9b0eb0371424189b",
            "9069beb4fd764554814e453cbc006329",
            "278acbd1e58a496cad07467de795d4ca",
            "5dc19bb1c32642f7b4860637c64d9ded",
            "3f119bff162c4b7fa925eef2f4defbe6",
            "a1dd3b37b3c243959474ff78ef3cca71",
            "31e7f35460794f838c54df1dbaa866ce",
            "5695a3c076954428b015459177c307ab",
            "ebbe84690bb747e3ad51aa1f17ac2448",
            "cda1b7bebfc84482a24204915c8b1bba",
            "7aa74e649d124649ab294f77656c7be4",
            "da89893c37b140da9a8e91b5f89e7f96",
            "d97687ffd95c4a9082fc50ebeacb94b6",
            "889e8a8afaf3474eb19ee9623facf0b4"
          ]
        },
        "outputId": "c594f561-3fac-4a4d-c976-b244c357c12b"
      },
      "source": [
        "rho_o=wg.IntSlider(description='Oil gravity:', max=60)\n",
        "GOR=wg.IntSlider(description='GOR:', max=500)\n",
        "rho_g=wg.FloatSlider(description='Gas gravity:', max=1)\n",
        "T=wg.IntSlider(description='Temp (C):', max=500)\n",
        "P=wg.IntSlider(description='Pres(psi):', max=5000)\n",
        "S=wg.IntSlider(description='Salinity(ppm):', max=6000)\n",
        "phi=wg.FloatSlider(description='Porosity:', max=1)\n",
        "vsh=wg.FloatSlider(description='Shale Fraction:', max=1)\n",
        "isw=wg.FloatSlider(description='Sw initial:', max=1)\n",
        "tsw=wg.FloatSlider(description='Sw target:', max=1)\n",
        "ifluid=wg.Dropdown( options=[('Oil', 1), ('Gas', 2)],description='Initial HC:')\n",
        "fluid=wg.Dropdown( options=[('Brine', 1), ('Oil', 2), ('Gas', 2)],description='DesiredFluid')\n",
        "vp=wg.IntSlider(description='Init Vp:', max=15000)\n",
        "vs=wg.IntSlider(description='Init Vs:', max=10000)\n",
        "rho=wg.FloatSlider(description='Density init:', max=8)\n",
        "display(rho_o,GOR, rho_g,T,P,S,phi,Vsh, isw,tsw,ifluid, fluid,vp,vs,rho)"
      ],
      "execution_count": null,
      "outputs": [
        {
          "output_type": "display_data",
          "data": {
            "application/vnd.jupyter.widget-view+json": {
              "model_id": "5138895ecb884ad5870f2b10c1a93796",
              "version_minor": 0,
              "version_major": 2
            },
            "text/plain": [
              "IntSlider(value=0, description='Oil gravity:', max=60)"
            ]
          },
          "metadata": {
            "tags": []
          }
        },
        {
          "output_type": "display_data",
          "data": {
            "application/vnd.jupyter.widget-view+json": {
              "model_id": "757e0ea969c54de29caa859ee9bb2109",
              "version_minor": 0,
              "version_major": 2
            },
            "text/plain": [
              "IntSlider(value=0, description='GOR:', max=500)"
            ]
          },
          "metadata": {
            "tags": []
          }
        },
        {
          "output_type": "display_data",
          "data": {
            "application/vnd.jupyter.widget-view+json": {
              "model_id": "744e5e327542467bbcdb0ea3c7334da7",
              "version_minor": 0,
              "version_major": 2
            },
            "text/plain": [
              "FloatSlider(value=0.0, description='Gas gravity:', max=1.0)"
            ]
          },
          "metadata": {
            "tags": []
          }
        },
        {
          "output_type": "display_data",
          "data": {
            "application/vnd.jupyter.widget-view+json": {
              "model_id": "b7ff1a1f6b9f45ceabee23dd88dd1016",
              "version_minor": 0,
              "version_major": 2
            },
            "text/plain": [
              "IntSlider(value=0, description='Temp (C):', max=500)"
            ]
          },
          "metadata": {
            "tags": []
          }
        },
        {
          "output_type": "display_data",
          "data": {
            "application/vnd.jupyter.widget-view+json": {
              "model_id": "53abe3681b434fad85de8c24719c2c6f",
              "version_minor": 0,
              "version_major": 2
            },
            "text/plain": [
              "IntSlider(value=0, description='Pres(psi):', max=5000)"
            ]
          },
          "metadata": {
            "tags": []
          }
        },
        {
          "output_type": "display_data",
          "data": {
            "application/vnd.jupyter.widget-view+json": {
              "model_id": "22e484c29d4746a194e8ec90fcbcac38",
              "version_minor": 0,
              "version_major": 2
            },
            "text/plain": [
              "IntSlider(value=0, description='Salinity(ppm):', max=6000)"
            ]
          },
          "metadata": {
            "tags": []
          }
        },
        {
          "output_type": "display_data",
          "data": {
            "application/vnd.jupyter.widget-view+json": {
              "model_id": "351cfb3f9773420e861e1b26fc3b16a6",
              "version_minor": 0,
              "version_major": 2
            },
            "text/plain": [
              "FloatSlider(value=0.0, description='Porosity:', max=1.0)"
            ]
          },
          "metadata": {
            "tags": []
          }
        },
        {
          "output_type": "display_data",
          "data": {
            "application/vnd.jupyter.widget-view+json": {
              "model_id": "3f7c8f48fb7f441dba6b22ba238c3c93",
              "version_minor": 0,
              "version_major": 2
            },
            "text/plain": [
              "FloatSlider(value=0.0, description='Shale Fraction:', max=1.0)"
            ]
          },
          "metadata": {
            "tags": []
          }
        },
        {
          "output_type": "display_data",
          "data": {
            "application/vnd.jupyter.widget-view+json": {
              "model_id": "f8c4d8ff5c44405985415d13d10c6194",
              "version_minor": 0,
              "version_major": 2
            },
            "text/plain": [
              "FloatSlider(value=0.0, description='Sw initial:', max=1.0)"
            ]
          },
          "metadata": {
            "tags": []
          }
        },
        {
          "output_type": "display_data",
          "data": {
            "application/vnd.jupyter.widget-view+json": {
              "model_id": "954b7402371e4820afce8861fdbc8bbf",
              "version_minor": 0,
              "version_major": 2
            },
            "text/plain": [
              "FloatSlider(value=0.0, description='Sw target:', max=1.0)"
            ]
          },
          "metadata": {
            "tags": []
          }
        },
        {
          "output_type": "display_data",
          "data": {
            "application/vnd.jupyter.widget-view+json": {
              "model_id": "43e23ce034d14b3095a96bdfacaadcf7",
              "version_minor": 0,
              "version_major": 2
            },
            "text/plain": [
              "Dropdown(description='Initial HC:', options=(('Oil', 1), ('Gas', 2)), value=1)"
            ]
          },
          "metadata": {
            "tags": []
          }
        },
        {
          "output_type": "display_data",
          "data": {
            "application/vnd.jupyter.widget-view+json": {
              "model_id": "278acbd1e58a496cad07467de795d4ca",
              "version_minor": 0,
              "version_major": 2
            },
            "text/plain": [
              "Dropdown(description='DesiredFluid', options=(('Brine', 1), ('Oil', 2), ('Gas', 2)), value=1)"
            ]
          },
          "metadata": {
            "tags": []
          }
        },
        {
          "output_type": "display_data",
          "data": {
            "application/vnd.jupyter.widget-view+json": {
              "model_id": "a1dd3b37b3c243959474ff78ef3cca71",
              "version_minor": 0,
              "version_major": 2
            },
            "text/plain": [
              "IntSlider(value=0, description='Init Vp:', max=15000)"
            ]
          },
          "metadata": {
            "tags": []
          }
        },
        {
          "output_type": "display_data",
          "data": {
            "application/vnd.jupyter.widget-view+json": {
              "model_id": "ebbe84690bb747e3ad51aa1f17ac2448",
              "version_minor": 0,
              "version_major": 2
            },
            "text/plain": [
              "IntSlider(value=0, description='Init Vs:', max=10000)"
            ]
          },
          "metadata": {
            "tags": []
          }
        },
        {
          "output_type": "display_data",
          "data": {
            "application/vnd.jupyter.widget-view+json": {
              "model_id": "da89893c37b140da9a8e91b5f89e7f96",
              "version_minor": 0,
              "version_major": 2
            },
            "text/plain": [
              "FloatSlider(value=0.0, description='Density init:', max=8.0)"
            ]
          },
          "metadata": {
            "tags": []
          }
        }
      ]
    },
    {
      "cell_type": "code",
      "metadata": {
        "id": "3GdTrO7A_rb6",
        "colab_type": "code",
        "colab": {}
      },
      "source": [
        "rho_o = rho_o.value        #Oil gravity (deg API)\n",
        "GOR = GOR.value            #GOR (L/L)\n",
        "rho_g = rho_g.value        #Gas gravity (API)\n",
        "T = T.value                #Temperature (0 C)\n",
        "P = P.value                #Pressure (psi)\n",
        "S = S.value                #water salinity (ppm)\n",
        "phi = phi.value            #porosity (in fraction)\n",
        "vsh = vsh.value            #Vsh (volume shale in fraction)\n",
        "isw = isw.value            #initial water saturation (SW)\n",
        "tsw = tsw.value            #target water saturation (in fraction)\n",
        "ifluid = ifluid.value      #initial hydrocarbon is 1(oil), 2(gas)\n",
        "fluid = fluid.value        #Desired fluid is 1(brine), 2(oil) 3(gas)\n",
        "vp = vp.value              #ft/s - from log (initial value)\n",
        "vs = vs.value              #ft/s - from log (initial value)\n",
        "rho = rho.value            #gm/c - from log (initial value)"
      ],
      "execution_count": null,
      "outputs": []
    },
    {
      "cell_type": "markdown",
      "metadata": {
        "id": "3WGDiLwcTWJt",
        "colab_type": "text"
      },
      "source": [
        "Say these values are selected by the GUI\n"
      ]
    },
    {
      "cell_type": "code",
      "metadata": {
        "id": "EzQolin2IoCf",
        "colab_type": "code",
        "colab": {}
      },
      "source": [
        "rho_o = 42        #Oil gravity (deg API)\n",
        "GOR = 160.0       #GOR (L/L)\n",
        "rho_g = 0.9       #Gas gravity (API)\n",
        "T = 150.00        #Temperature (0 C)\n",
        "P = 3200.00       #Pressure (psi)\n",
        "S = 3800          #water salinity (ppm)\n",
        "phi = 0.20        #porosity (in fraction)\n",
        "vsh = 0.20        #Vsh (volume shale in fraction)\n",
        "isw = 0.40        #initial water saturation (SW)\n",
        "tsw = 1.00        #target water saturation (in fraction)\n",
        "ifluid = 1        #initial hydrocarbon is 1(oil), 2(gas)\n",
        "fluid = 3         #Desired fluid is 1(brine), 2(oil) 3(gas)\n",
        "vp = 11000.0      #ft/s - from log (initial value)\n",
        "vs = 6500.0       #ft/s - from log (initial value)\n",
        "rho = 2.2         #gm/c - from log (initial value)"
      ],
      "execution_count": null,
      "outputs": []
    },
    {
      "cell_type": "markdown",
      "metadata": {
        "id": "xGtz1LvAToGG",
        "colab_type": "text"
      },
      "source": [
        "#Fixed parameters (e.g., Mavko et al., 1998)\n"
      ]
    },
    {
      "cell_type": "code",
      "metadata": {
        "id": "tKmd__MwLNTq",
        "colab_type": "code",
        "colab": {}
      },
      "source": [
        "k_clay = 20.9    #Bulk mod (GPa)\n",
        "k_qtz = 36.6\n",
        "rho_clay = 2.58  #gm/cc\n",
        "rho_qtz = 2.65"
      ],
      "execution_count": null,
      "outputs": []
    },
    {
      "cell_type": "markdown",
      "metadata": {
        "id": "-GsUdHZuTrU7",
        "colab_type": "text"
      },
      "source": [
        "#Some applied properties"
      ]
    },
    {
      "cell_type": "code",
      "metadata": {
        "id": "ikSTrwlaLXP0",
        "colab_type": "code",
        "colab": {}
      },
      "source": [
        "div_mill = 1/1000000   #factor used to divide by million\n",
        "fs2kms = 0.000305      #factor for ft/s to km/s conversion\n",
        "kms2fs = 3280.84       #factor for km/s to ft/s conversion\n",
        "v_clay = vsh*0.70      #Assumption: V_clay = 70% of VSH\n",
        "v_qtz= 1-v_clay        #quartz fraction in mineral\n",
        "ish = 1-isw            #initial hydrocarbon saturation\n",
        "tsh = 1-tsw            #final hydrocarbon saturation\n",
        "rho_o = 141.5/(rho_o+131.5) #oil gravity in gm/cc (from API)\n",
        "P = P*6.894757*0.001         #Press in MPa (from Psi)\n",
        "S = S*div_mill               #salinity as weight fraction\n",
        "vp = vp*fs2kms               #ft/s to km/s\n",
        "vs = vs*fs2kms               #ft/s to km/s"
      ],
      "execution_count": null,
      "outputs": []
    },
    {
      "cell_type": "markdown",
      "metadata": {
        "id": "cwmw7GlvTzqc",
        "colab_type": "text"
      },
      "source": [
        "#Step 1: Matrix properties (using VRH averaging, equation 6)\n"
      ]
    },
    {
      "cell_type": "code",
      "metadata": {
        "id": "4d0FCXFNL4tp",
        "colab_type": "code",
        "colab": {}
      },
      "source": [
        "k_voigt = v_clay*k_clay + v_qtz*k_qtz\n",
        "k_reuss = 1/(v_clay/k_clay + v_qtz/k_qtz)\n",
        "k_matrix = 0.5*(k_voigt + k_reuss)                            #GPa\n",
        "rho_matrix = v_clay*rho_clay+v_qtz*rho_qtz                    #gm/cc"
      ],
      "execution_count": null,
      "outputs": []
    },
    {
      "cell_type": "code",
      "metadata": {
        "id": "Q9TTHDoPknS_",
        "colab_type": "code",
        "colab": {}
      },
      "source": [
        "import numpy as np\n",
        "w=np.zeros((5,4),dtype=float)"
      ],
      "execution_count": null,
      "outputs": []
    },
    {
      "cell_type": "markdown",
      "metadata": {
        "id": "O9So1c9fT48m",
        "colab_type": "text"
      },
      "source": [
        "#Step 2: water/brine properties (Equations 10 and 11)\n"
      ]
    },
    {
      "cell_type": "code",
      "metadata": {
        "id": "PdW3LmV7MEFm",
        "colab_type": "code",
        "colab": {}
      },
      "source": [
        "w[0,0] = 1402.85 \n",
        "w[0,2] = 3.437*10**(-3)    #Table 2\n",
        "w[1,0] = 4.871\n",
        "w[1,2] = 1.739*10**(-4)\n",
        "w[2,0] = -0.04783\n",
        "w[2,2] = -2.135*10**(-6)\n",
        "w[3,0] = 1.487*10**(-4)\n",
        "w[3,2] = -1.455*10**(-8)\n",
        "w[4,0] = -2.197*10**(-7)\n",
        "w[4,2] = 5.230*10**(-11)\n",
        "w[0,1] = 1.524\n",
        "w[0,3] = -1.197*10**(-5)\n",
        "w[1,1] = -0.0111\n",
        "w[1,3] = -1.628*10**(-6)\n",
        "w[2,1] = 2.747*10**(-4)\n",
        "w[2,3] = 1.237*10**(-8)\n",
        "w[3,1] = -6.503*10**(-7)\n",
        "w[3,3] = 1.327*10**(-10)\n",
        "w[4,1] = 7.987*10**(-10)\n",
        "w[4,3] = -4.614*10**(-13)"
      ],
      "execution_count": null,
      "outputs": []
    },
    {
      "cell_type": "code",
      "metadata": {
        "id": "AROf2IEUbTPv",
        "colab_type": "code",
        "colab": {}
      },
      "source": [
        "sum = 0\n",
        "for i in range(5):\n",
        "  for j in range(4):\n",
        "    sum= sum+ w[i,j]*np.power(T,i-1)*np.power(P,j-1)\n",
        "v_water = sum"
      ],
      "execution_count": null,
      "outputs": []
    },
    {
      "cell_type": "code",
      "metadata": {
        "id": "rMMGWRsVs3yX",
        "colab_type": "code",
        "colab": {}
      },
      "source": [
        "v1 = 1170-9.6*T+(0.055*T*T)-8.5*(10**(-5))*T*T*T+2.6*P-0.0029*T*P-0.0476*P*P"
      ],
      "execution_count": null,
      "outputs": []
    },
    {
      "cell_type": "code",
      "metadata": {
        "id": "GTH5c2fMtTPk",
        "colab_type": "code",
        "colab": {}
      },
      "source": [
        "v_brine = v_water+S*v1+(S**1.5)*(780-10*P+0.16*P*P)-1820*S*S #m/s"
      ],
      "execution_count": null,
      "outputs": []
    },
    {
      "cell_type": "code",
      "metadata": {
        "id": "uhqhiA9yteTJ",
        "colab_type": "code",
        "colab": {}
      },
      "source": [
        "r1 = 489*P-2*T*P+0.016*T*T*P-1.3*(10**(-5))*T*T*T*P-0.333*P*P-0.002*T*P*P"
      ],
      "execution_count": null,
      "outputs": []
    },
    {
      "cell_type": "code",
      "metadata": {
        "id": "gt_oKHVbtkqm",
        "colab_type": "code",
        "colab": {}
      },
      "source": [
        "rho_water=1+(10**(-6))*(-80*T-3.3*T*T+0.00175*T*T*T+r1)"
      ],
      "execution_count": null,
      "outputs": []
    },
    {
      "cell_type": "code",
      "metadata": {
        "id": "RRNyS__TtpUs",
        "colab_type": "code",
        "colab": {}
      },
      "source": [
        "r2 = 300*P-2400*P*S+T*(80+3*T-3300*S-13*P+47*P*S)"
      ],
      "execution_count": null,
      "outputs": []
    },
    {
      "cell_type": "code",
      "metadata": {
        "id": "7hNmigFCtwsc",
        "colab_type": "code",
        "colab": {}
      },
      "source": [
        "rho_brine = rho_water+0.668*S+0.44*S*S+(10**(-6))*S*r2 #gm/cc (held const)"
      ],
      "execution_count": null,
      "outputs": []
    },
    {
      "cell_type": "code",
      "metadata": {
        "id": "nalRmzAut5iV",
        "colab_type": "code",
        "colab": {}
      },
      "source": [
        "k_brine = rho_brine*v_brine*v_brine*div_mill #GPa (held const)"
      ],
      "execution_count": null,
      "outputs": []
    },
    {
      "cell_type": "markdown",
      "metadata": {
        "id": "WrYhGl-LT-ag",
        "colab_type": "text"
      },
      "source": [
        "#Step 3: Initial Hydrocarbon properties\n"
      ]
    },
    {
      "cell_type": "code",
      "metadata": {
        "id": "R4MEKWxruhYR",
        "colab_type": "code",
        "colab": {}
      },
      "source": [
        "import math\n",
        "if ifluid == 1: #'Oil’ Oil by default contains gas also4\n",
        "  B0 = 0.972+0.00038*((2.495*GOR*math.sqrt(rho_g/rho_o)+T+17.8)**1.175)\n",
        "  rho_ps = rho_o/((1+0.001*GOR)*B0)\n",
        "  rho_s = (rho_o+0.0012*GOR*rho_g)/B0\n",
        "  r1 = rho_s+(0.00277*P-1.71*0.0000001*P*P*P)*((rho_s-1.15)**2)+3.49*0.0001*P\n",
        "  rho_hyc = r1/(0.972+3.81*0.0001*((T+17.78)**1.175))                                   #gm/cc (will change)\n",
        "  v = 2096*math.sqrt(rho_ps/(2.6-rho_ps))-3.7*T+4.64*P+0.0115*(math.sqrt(18.33/rho_ps-16.97)-1)*T*P\n",
        "  k_hyc = rho_hyc*v*v*div_mill  #GPa (will change)\n",
        "\n",
        "else:\n",
        "  R = 8.314 #gas means no OIL only gas is present, gas constant (eqn, same as in step7 for fluid == 3)\n",
        "  Ta = T+273.15\n",
        "  Ppr = P/(4.892-0.4048*rho_g)\n",
        "  Tpr = Ta/(94.72+170.75*rho_g)\n",
        "  E1 = exp((-Ppr**1.2)/(Tpr*(0.45+8*(0.56-1/Tpr)**2)))\n",
        "  E = 0.109*((3.85-Tpr)**2)*E1\n",
        "  Z1 = 0.03+0.00527*((3.5-Tpr)**3)\n",
        "  Z = Z1*Ppr+(0.642*Tpr-0.007*(Tpr**4)-0.52)+E\n",
        "  rho_hyc = 28.8*rho_g*P/(Z*R*Ta)\n",
        "  dz_dp = Z1+0.109*(3.85-Tpr)^2*E1*(-1.2*Ppr^0.2/Tpr*(0.45+8*(0.56-1/Tpr)**2))\n",
        "  yo = 0.85+5.6/(Ppr+2)+27.1/(Ppr+3.5)^2-8.7*exp(-0.65*(Ppr+1))\n",
        "  k_hyc = P*yo/1000*1.0/(1-Ppr/Z*dz_dp)                                               ###GPa"
      ],
      "execution_count": null,
      "outputs": []
    },
    {
      "cell_type": "markdown",
      "metadata": {
        "id": "woX2Qhi0MsBj",
        "colab_type": "text"
      },
      "source": [
        "#Step 4: Fluid properties(initial insitu model)\n",
        "\n",
        "For patchy saturation using equation 5,6 from DVORKIN et al 2001,"
      ]
    },
    {
      "cell_type": "code",
      "metadata": {
        "id": "3S7_6xMsNlEY",
        "colab_type": "code",
        "colab": {}
      },
      "source": [
        "k_fl=isw*k_brine+(1-isw)*k_hyc #Equation 5\n",
        "rho_fl = isw*rho_brine+ish*rho_hyc"
      ],
      "execution_count": null,
      "outputs": []
    },
    {
      "cell_type": "code",
      "metadata": {
        "id": "OiMdpoBCXJ7D",
        "colab_type": "code",
        "colab": {}
      },
      "source": [
        "#K_fl = (k_brine - k_hyc) * Sw**e + k_hyc #Equation 6\n",
        "\n",
        "#where e is a free parameter. For e = 1, Equation becomes Voigt average. For a large e the velocity is close to that for homogeneous saturation "
      ],
      "execution_count": null,
      "outputs": []
    },
    {
      "cell_type": "markdown",
      "metadata": {
        "id": "F0M4HLWeUS6e",
        "colab_type": "text"
      },
      "source": [
        "#Step 5: Insitu original moduli (for saturated – insitu rock, equations 4 and 5)\n"
      ]
    },
    {
      "cell_type": "code",
      "metadata": {
        "id": "o8y1l_Oh4qgB",
        "colab_type": "code",
        "colab": {}
      },
      "source": [
        "dens_poros = 0 #1 (use porosity to est initial density), 0 (use input log)\n",
        "if dens_poros == 1:\n",
        "  rho = phi*rho_fl + (1-phi)*rho_matrix\n",
        "\n",
        "k_sat = rho*(vp*vp-vs*vs*4/3)     #GPa (will change in step 9)\n",
        "g = rho*vs*vs                     #GPa (held constant)"
      ],
      "execution_count": null,
      "outputs": []
    },
    {
      "cell_type": "markdown",
      "metadata": {
        "id": "0u3is3aOUYy4",
        "colab_type": "text"
      },
      "source": [
        "#Step 6: Porous frame properties (rewrite Gassmann eqn, equation 36)"
      ]
    },
    {
      "cell_type": "code",
      "metadata": {
        "id": "uCW32kOE5daF",
        "colab_type": "code",
        "colab": {}
      },
      "source": [
        "k1 = k_sat*(phi*k_matrix/k_fl+1-phi)-k_matrix\n",
        "k2 = phi*k_matrix/k_fl+k_sat/k_matrix-1-phi\n",
        "k_frame = k1/k2 #GPa (held constant)"
      ],
      "execution_count": null,
      "outputs": []
    },
    {
      "cell_type": "markdown",
      "metadata": {
        "id": "0J8MIifcUcFV",
        "colab_type": "text"
      },
      "source": [
        "#Step 7: select the type of output fluid, cal hyc/fluid prop (equations 32 to 35)\n"
      ]
    },
    {
      "cell_type": "code",
      "metadata": {
        "id": "dzjTpgyb5taW",
        "colab_type": "code",
        "colab": {
          "base_uri": "https://localhost:8080/",
          "height": 34
        },
        "outputId": "06f3c627-0947-493d-bba4-25829bf04b25"
      },
      "source": [
        "\n",
        "if fluid == 1: #Brine\n",
        "  print(\"Changing fluid to brine\") \n",
        "\n",
        "if fluid == 2:     #Oil\n",
        "  print(\"Changing fluid to Oil [with dissolved gas] with TWS brine\")\n",
        "  B0 = 0.972+0.00038*(2.495*GOR*math.sqrt(rho_g/rho_o)+T+17.8)**1.175\n",
        "  rho_ps = rho_o/((1+0.001*GOR)*B0)\n",
        "  rho_s = (rho_o+0.0012*GOR*rho_g)/B0\n",
        "  r1 = rho_s+(0.00277*P-1.71*0.0000001*P*P*P)*((rho_s-1.15)**2)+3.49*0.0001*P\n",
        "  rho_hyc = r1/(0.972+3.81*0.0001*((T+17.78)**1.175))                                     #gm/cc (will change)\n",
        "  v = 2096*math.sqrt(rho_ps/(2.6-rho_ps))-3.7*T+4.64*P+0.0115*(math.sqrt(18.33/rho_ps-16.97)-1)*T*P\n",
        "  k_hyc = rho_hyc*v*v*div_mill #GPa (will change)\n",
        "\n",
        "if fluid == 3: #Gas\n",
        "  print(\"Changing fluid to Gas with TWS brine\")\n",
        "  R = 8.314\n",
        "  Ta = T+273.15\n",
        "  Ppr = P/(4.892-0.4048*rho_g)\n",
        "  Tpr = Ta/(94.72+170.75*rho_g)\n",
        "  E1 = math.exp(-Ppr**1.2/Tpr*(0.45+8*(0.56-1/Tpr)**2))\n",
        "  E = 0.109*((3.85-Tpr)**2)*E1\n",
        "  Z1 = 0.03+0.00527*((3.5-Tpr)**3)\n",
        "  Z = Z1*Ppr+0.642*Tpr-0.007*(Tpr**4)-0.52+E\n",
        "  rho_hyc = 28.8*rho_g*P/(Z*R*Ta)\n",
        "  dz_dp=Z1+0.109*((3.85-Tpr)**2)*E1*(-1.2*Ppr**0.2/Tpr*(0.45+8*(0.56-1/Tpr)**2))\n",
        "  yo = 0.85+5.6/(Ppr+2)+27.1/(Ppr+3.5)**2-8.7*math.exp(-0.65*(Ppr+1))\n",
        "  k_hyc = P*yo/1000*1.0/(1-Ppr/Z*dz_dp)                                                       #GPa"
      ],
      "execution_count": null,
      "outputs": [
        {
          "output_type": "stream",
          "text": [
            "Changing fluid to Gas with TWS brine\n"
          ],
          "name": "stdout"
        }
      ]
    },
    {
      "cell_type": "markdown",
      "metadata": {
        "id": "xf-BU_POUtyM",
        "colab_type": "text"
      },
      "source": [
        "#Step 8: Fluid properties (target saturation) and saturated rock density (equations 30 and 31)\n"
      ]
    },
    {
      "cell_type": "code",
      "metadata": {
        "id": "JDMgmVymKZX4",
        "colab_type": "code",
        "colab": {}
      },
      "source": [
        "\n",
        "k_fl = 1/(tsw/k_brine + tsh/k_hyc)\n",
        "rho_fl = tsw*rho_brine + tsh*rho_hyc\n",
        "rho_sat = phi*rho_fl+(1-phi)*rho_matrix"
      ],
      "execution_count": null,
      "outputs": []
    },
    {
      "cell_type": "code",
      "metadata": {
        "id": "TfJ1j5hkNGmm",
        "colab_type": "code",
        "colab": {
          "base_uri": "https://localhost:8080/",
          "height": 34
        },
        "outputId": "9da053be-81f2-4588-f970-c46516833f90"
      },
      "source": [
        "rho_sat"
      ],
      "execution_count": null,
      "outputs": [
        {
          "output_type": "execute_result",
          "data": {
            "text/plain": [
              "2.2987991301334105"
            ]
          },
          "metadata": {
            "tags": []
          },
          "execution_count": 55
        }
      ]
    },
    {
      "cell_type": "markdown",
      "metadata": {
        "id": "vdvSMp5xU3Pb",
        "colab_type": "text"
      },
      "source": [
        "#Step 9: Gassmann Saturated bulk modulus (equation 3)\n"
      ]
    },
    {
      "cell_type": "code",
      "metadata": {
        "id": "qfoKhf9eKnJ-",
        "colab_type": "code",
        "colab": {}
      },
      "source": [
        "\n",
        "k1 = phi/k_fl+(1-phi)/k_matrix-k_frame/(k_matrix*k_matrix)\n",
        "k_sat_new = k_frame + ((1-k_frame/k_matrix)**2)/k1"
      ],
      "execution_count": null,
      "outputs": []
    },
    {
      "cell_type": "markdown",
      "metadata": {
        "id": "843NZ8eMVBZh",
        "colab_type": "text"
      },
      "source": [
        "#Step 10: Vp, Vs, rho after fluid substitution (equations 1 and 2)\n"
      ]
    },
    {
      "cell_type": "code",
      "metadata": {
        "id": "LoDNPxUXMs6_",
        "colab_type": "code",
        "colab": {}
      },
      "source": [
        "vp_sat = math.sqrt((k_sat_new+g*4/3)/rho_sat)*kms2fs\n",
        "vs_sat = math.sqrt(g/rho_sat)*kms2fs"
      ],
      "execution_count": null,
      "outputs": []
    },
    {
      "cell_type": "code",
      "metadata": {
        "id": "BoRWd6_r_TPl",
        "colab_type": "code",
        "colab": {
          "base_uri": "https://localhost:8080/",
          "height": 34
        },
        "outputId": "c17734ad-70a7-4966-b0ba-4c7614fd9b70"
      },
      "source": [
        "rho_sat"
      ],
      "execution_count": null,
      "outputs": [
        {
          "output_type": "execute_result",
          "data": {
            "text/plain": [
              "2.2987991301334105"
            ]
          },
          "metadata": {
            "tags": []
          },
          "execution_count": 58
        }
      ]
    },
    {
      "cell_type": "code",
      "metadata": {
        "id": "kdNW7_GzM5qB",
        "colab_type": "code",
        "colab": {
          "base_uri": "https://localhost:8080/",
          "height": 34
        },
        "outputId": "bd5f6221-47d2-4701-fb78-9fdb6e7ed41c"
      },
      "source": [
        "vp_sat"
      ],
      "execution_count": null,
      "outputs": [
        {
          "output_type": "execute_result",
          "data": {
            "text/plain": [
              "10714.077698124196"
            ]
          },
          "metadata": {
            "tags": []
          },
          "execution_count": 59
        }
      ]
    },
    {
      "cell_type": "code",
      "metadata": {
        "id": "Gev9DHeJM-dB",
        "colab_type": "code",
        "colab": {
          "base_uri": "https://localhost:8080/",
          "height": 34
        },
        "outputId": "a1576ed8-99b0-4e47-c033-91738d94bbd6"
      },
      "source": [
        "vs_sat"
      ],
      "execution_count": null,
      "outputs": [
        {
          "output_type": "execute_result",
          "data": {
            "text/plain": [
              "6362.958277961363"
            ]
          },
          "metadata": {
            "tags": []
          },
          "execution_count": 60
        }
      ]
    }
  ]
}